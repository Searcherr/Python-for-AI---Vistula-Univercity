{
 "cells": [
  {
   "cell_type": "code",
   "execution_count": 1,
   "metadata": {
    "datalore": {
     "hide_input_from_viewers": false,
     "hide_output_from_viewers": false,
     "node_id": "WCrjmyiotyk2ty3M25cCjS",
     "report_properties": {},
     "type": "CODE"
    },
    "ExecuteTime": {
     "start_time": "2023-04-10T06:50:06.532067Z",
     "end_time": "2023-04-10T06:50:06.905902Z"
    }
   },
   "outputs": [],
   "source": [
    "import numpy as np\n",
    "import pandas as pd\n",
    "import matplotlib.pyplot as plt\n",
    "from sklearn.ensemble import RandomForestClassifier\n",
    "from sklearn.preprocessing import MinMaxScaler\n",
    "from sklearn.metrics import confusion_matrix\n",
    "from sklearn.model_selection import train_test_split\n",
    "from sklearn.datasets import make_classification"
   ]
  },
  {
   "cell_type": "code",
   "execution_count": 2,
   "metadata": {
    "datalore": {
     "hide_input_from_viewers": false,
     "hide_output_from_viewers": false,
     "node_id": "CoO38XnThe5gatqSF8vCwP",
     "report_properties": {},
     "type": "CODE"
    },
    "ExecuteTime": {
     "start_time": "2023-04-10T06:50:08.436301Z",
     "end_time": "2023-04-10T06:50:08.494502Z"
    }
   },
   "outputs": [],
   "source": [
    "X, y = make_classification(n_samples=10000, n_features=20, n_classes=2)"
   ]
  },
  {
   "cell_type": "code",
   "execution_count": 3,
   "metadata": {
    "datalore": {
     "hide_input_from_viewers": false,
     "hide_output_from_viewers": false,
     "node_id": "NGaLsoiukq825yT08kBo6N",
     "report_properties": {},
     "type": "CODE"
    },
    "ExecuteTime": {
     "start_time": "2023-04-10T06:50:09.217000Z",
     "end_time": "2023-04-10T06:50:09.231116Z"
    }
   },
   "outputs": [
    {
     "data": {
      "text/plain": "((10000, 20), (10000,))"
     },
     "execution_count": 3,
     "metadata": {},
     "output_type": "execute_result"
    }
   ],
   "source": [
    "X.shape,y.shape"
   ]
  },
  {
   "cell_type": "code",
   "execution_count": 4,
   "metadata": {
    "datalore": {
     "hide_input_from_viewers": false,
     "hide_output_from_viewers": false,
     "node_id": "RvXXeNdQq2BR53X9eGhZhh",
     "report_properties": {},
     "type": "CODE"
    },
    "ExecuteTime": {
     "start_time": "2023-04-10T06:50:09.859748Z",
     "end_time": "2023-04-10T06:50:09.862308Z"
    }
   },
   "outputs": [
    {
     "name": "stdout",
     "output_type": "stream",
     "text": [
      "[[-0.42696638  0.96076431  0.72483803  1.38357517  0.77866721]\n",
      " [-0.44455262  1.09073971  1.01022167  0.38919956  0.37865481]\n",
      " [-0.10379373 -1.45478387  0.72626629 -1.1430477   1.91990201]\n",
      " [-1.68385662  1.78053603  1.62227052  1.12930629  0.98443733]\n",
      " [-0.05042652  0.3930654   0.42054014 -1.53842358  0.21253967]\n",
      " [-0.76196062  0.83506452 -0.82103275 -0.53917205  1.5002917 ]\n",
      " [ 0.63952652  1.4078721   0.24665555  2.06924207 -0.94206539]\n",
      " [ 2.76716388 -1.32669451  0.32145932  2.21861895  1.987399  ]\n",
      " [ 1.59485467 -0.34547572  0.6874061  -0.42479646 -0.46790595]\n",
      " [ 0.33663545  1.90003076  1.20330095  0.22007998  0.28357644]]\n"
     ]
    }
   ],
   "source": [
    "print (X[:10, :5])"
   ]
  },
  {
   "cell_type": "code",
   "execution_count": 5,
   "metadata": {
    "datalore": {
     "hide_input_from_viewers": false,
     "hide_output_from_viewers": false,
     "node_id": "BTWtqvq9rJYaaUJcXRvzAj",
     "report_properties": {},
     "type": "CODE"
    },
    "ExecuteTime": {
     "start_time": "2023-04-10T06:50:10.629850Z",
     "end_time": "2023-04-10T06:50:10.633763Z"
    }
   },
   "outputs": [
    {
     "name": "stdout",
     "output_type": "stream",
     "text": [
      "[1 1 0 1 0]\n"
     ]
    }
   ],
   "source": [
    "print (y[:5])"
   ]
  },
  {
   "cell_type": "code",
   "execution_count": 6,
   "metadata": {
    "datalore": {
     "hide_input_from_viewers": false,
     "hide_output_from_viewers": false,
     "node_id": "OZG7fBx9tEN0dyfuuZSWoD",
     "report_properties": {},
     "type": "CODE"
    },
    "ExecuteTime": {
     "start_time": "2023-04-10T06:50:11.624192Z",
     "end_time": "2023-04-10T06:50:11.626771Z"
    }
   },
   "outputs": [],
   "source": [
    "minmaxsc = MinMaxScaler()"
   ]
  },
  {
   "cell_type": "code",
   "execution_count": 7,
   "metadata": {
    "datalore": {
     "hide_input_from_viewers": false,
     "hide_output_from_viewers": false,
     "node_id": "Lslzk9gRZqd4ZN9kQfMSAB",
     "report_properties": {},
     "type": "CODE"
    }
   },
   "outputs": [],
   "source": [
    "X_train, X_test, y_train, y_test = train_test_split(\n",
    "   X, y, test_size = 0.33)"
   ]
  },
  {
   "cell_type": "code",
   "execution_count": 8,
   "metadata": {
    "datalore": {
     "hide_input_from_viewers": false,
     "hide_output_from_viewers": false,
     "node_id": "RJG5URgO0ioLu9bk36YZAu",
     "report_properties": {},
     "type": "CODE"
    }
   },
   "outputs": [
    {
     "data": {
      "text/html": [
       "<pre>array([[-0.31419265, -0.17128105,  0.42245146, ...,  2.10913833,\n",
       "         0.35538378,  0.13292289],\n",
       "       [ 1.89465455,  0.17137708,  1.49317562, ..., -0.15489096,\n",
       "        -2.13686667,  2.85787506],\n",
       "       [-0.57940526, -0.23483075, -2.01692848, ..., -1.94019297,\n",
       "         0.18891223, -2.28705783],\n",
       "       ...,\n",
       "       [-1.34506553,  0.46281581, -1.09212435, ...,  0.58265427,\n",
       "        -0.06122451, -2.05793408],\n",
       "       [-0.64379547,  0.2304502 , -1.68811375, ..., -0.4052049 ,\n",
       "         0.9904773 , -2.04043319],\n",
       "       [-3.4050277 , -1.34857326, -0.46046403, ..., -0.89605177,\n",
       "        -0.88289295, -3.12280651]])</pre>"
      ]
     },
     "metadata": {},
     "output_type": "display_data"
    }
   ],
   "source": [
    "X_train "
   ]
  },
  {
   "cell_type": "code",
   "execution_count": 9,
   "metadata": {
    "datalore": {
     "hide_input_from_viewers": false,
     "hide_output_from_viewers": false,
     "node_id": "Jy5i6JC5TX3uSKEIlyAtJd",
     "report_properties": {},
     "type": "CODE"
    }
   },
   "outputs": [
    {
     "data": {
      "text/plain": [
       "((6700, 20), (3300, 20), (6700,), (3300,))"
      ]
     },
     "metadata": {},
     "output_type": "display_data"
    }
   ],
   "source": [
    "X_train.shape, X_test.shape, y_train.shape, y_test.shape"
   ]
  },
  {
   "cell_type": "code",
   "execution_count": 10,
   "metadata": {
    "datalore": {
     "hide_input_from_viewers": false,
     "hide_output_from_viewers": false,
     "node_id": "3WxwytOqLdijCt8ufOLRuU",
     "report_properties": {},
     "type": "CODE"
    }
   },
   "outputs": [
    {
     "data": {
      "text/plain": [
       "MinMaxScaler()"
      ]
     },
     "metadata": {},
     "output_type": "display_data"
    }
   ],
   "source": [
    "minmaxsc.fit(X_train)"
   ]
  },
  {
   "cell_type": "code",
   "execution_count": 11,
   "metadata": {
    "datalore": {
     "hide_input_from_viewers": false,
     "hide_output_from_viewers": false,
     "node_id": "5pRxPFUYtlcMhDCBkSmyRl",
     "report_properties": {},
     "type": "CODE"
    }
   },
   "outputs": [
    {
     "data": {
      "text/html": [
       "<pre>array([[0.63723895, 0.43043021, 0.25908913, ..., 0.53648523, 0.36761289,\n",
       "        0.38682895],\n",
       "       [0.53165348, 0.57232507, 0.17501845, ..., 0.65399234, 0.48021521,\n",
       "        0.23876896],\n",
       "       [0.50107266, 0.74924813, 0.19832326, ..., 0.4644589 , 0.49099525,\n",
       "        0.23284821],\n",
       "       ...,\n",
       "       [0.52446343, 0.38594599, 0.28915136, ..., 0.63765499, 0.42535698,\n",
       "        0.32165167],\n",
       "       [0.3482073 , 0.50724072, 0.4094101 , ..., 0.43380729, 0.50731082,\n",
       "        0.27662041],\n",
       "       [0.77707465, 0.46721365, 0.23106677, ..., 0.54307506, 0.61248841,\n",
       "        0.4748224 ]])</pre>"
      ]
     },
     "metadata": {},
     "output_type": "display_data"
    }
   ],
   "source": [
    "minmaxsc.transform(X_train)\n",
    "minmaxsc.transform(X_test)"
   ]
  },
  {
   "cell_type": "code",
   "execution_count": 12,
   "metadata": {
    "datalore": {
     "hide_input_from_viewers": false,
     "hide_output_from_viewers": false,
     "node_id": "PYUo7E34O5JOWg0SBdYKet",
     "report_properties": {},
     "type": "CODE"
    }
   },
   "outputs": [],
   "source": [
    "model =  RandomForestClassifier()"
   ]
  },
  {
   "cell_type": "code",
   "execution_count": 13,
   "metadata": {
    "datalore": {
     "hide_input_from_viewers": false,
     "hide_output_from_viewers": false,
     "node_id": "3MtvWyjF8e4412ZfmUrrMT",
     "report_properties": {},
     "type": "CODE"
    }
   },
   "outputs": [
    {
     "data": {
      "text/plain": [
       "RandomForestClassifier()"
      ]
     },
     "metadata": {},
     "output_type": "display_data"
    }
   ],
   "source": [
    "model.fit(X_train, y_train)"
   ]
  },
  {
   "cell_type": "code",
   "execution_count": 14,
   "metadata": {
    "datalore": {
     "hide_input_from_viewers": false,
     "hide_output_from_viewers": false,
     "node_id": "dOiGxdy2lVY65SDQkJBjt4",
     "report_properties": {},
     "type": "CODE"
    }
   },
   "outputs": [],
   "source": [
    "y_pred = model.predict(X_test)"
   ]
  },
  {
   "cell_type": "code",
   "execution_count": 15,
   "metadata": {
    "datalore": {
     "hide_input_from_viewers": false,
     "hide_output_from_viewers": false,
     "node_id": "gg9DpcTAYCM3tBim9eklQt",
     "report_properties": {},
     "type": "CODE"
    }
   },
   "outputs": [
    {
     "data": {
      "text/plain": [
       "(3300,)"
      ]
     },
     "metadata": {},
     "output_type": "display_data"
    }
   ],
   "source": [
    "y_pred.shape"
   ]
  },
  {
   "cell_type": "code",
   "execution_count": 16,
   "metadata": {
    "datalore": {
     "hide_input_from_viewers": false,
     "hide_output_from_viewers": false,
     "node_id": "MKsirJxBoayc7qA4jA8Ono",
     "report_properties": {},
     "type": "CODE"
    }
   },
   "outputs": [
    {
     "data": {
      "text/html": [
       "<pre>array([1, 0, 0, 0, 0, 0, 1, 0, 1, 1])</pre>"
      ]
     },
     "metadata": {},
     "output_type": "display_data"
    }
   ],
   "source": [
    "y_pred[:10]"
   ]
  },
  {
   "cell_type": "code",
   "execution_count": 17,
   "metadata": {
    "datalore": {
     "hide_input_from_viewers": false,
     "hide_output_from_viewers": false,
     "node_id": "gqYvonfnuz7i4VyjKhQeh9",
     "report_properties": {},
     "type": "CODE"
    }
   },
   "outputs": [
    {
     "data": {
      "text/plain": [
       "numpy.int64"
      ]
     },
     "metadata": {},
     "output_type": "display_data"
    }
   ],
   "source": [
    "type(y_pred[0])"
   ]
  },
  {
   "cell_type": "code",
   "execution_count": 18,
   "metadata": {
    "datalore": {
     "hide_input_from_viewers": false,
     "hide_output_from_viewers": false,
     "node_id": "jSEJrmVI51Bdq2UuhfIOsq",
     "report_properties": {},
     "type": "CODE"
    }
   },
   "outputs": [],
   "source": [
    "y_pr=1.0*y_pred"
   ]
  },
  {
   "cell_type": "code",
   "execution_count": 19,
   "metadata": {
    "datalore": {
     "hide_input_from_viewers": false,
     "hide_output_from_viewers": false,
     "node_id": "pGLt7rFiPAiTHDDHeK1qlB",
     "report_properties": {},
     "type": "CODE"
    }
   },
   "outputs": [
    {
     "data": {
      "text/plain": [
       "numpy.float64"
      ]
     },
     "metadata": {},
     "output_type": "display_data"
    }
   ],
   "source": [
    "type(y_pr[0])"
   ]
  },
  {
   "cell_type": "code",
   "execution_count": 20,
   "metadata": {
    "datalore": {
     "hide_input_from_viewers": false,
     "hide_output_from_viewers": false,
     "node_id": "mvWlxImMLpPEVlmoEizSJb",
     "report_properties": {},
     "type": "CODE"
    }
   },
   "outputs": [],
   "source": [
    "y_te=1.0*y_test"
   ]
  },
  {
   "cell_type": "code",
   "execution_count": 21,
   "metadata": {
    "datalore": {
     "hide_input_from_viewers": false,
     "hide_output_from_viewers": false,
     "node_id": "mqi6suD9STgQtarlqN9Y1f",
     "report_properties": {},
     "type": "CODE"
    }
   },
   "outputs": [
    {
     "data": {
      "text/plain": [
       "numpy.float64"
      ]
     },
     "metadata": {},
     "output_type": "display_data"
    }
   ],
   "source": [
    "type(y_te[0])"
   ]
  },
  {
   "cell_type": "code",
   "execution_count": 22,
   "metadata": {
    "datalore": {
     "hide_input_from_viewers": false,
     "hide_output_from_viewers": false,
     "node_id": "Z5Kx7NjaR0sMIukCSiqaku",
     "report_properties": {},
     "type": "CODE"
    }
   },
   "outputs": [],
   "source": [
    "y_pr=y_pred.astype(\"float64\")"
   ]
  },
  {
   "cell_type": "code",
   "execution_count": 23,
   "metadata": {
    "datalore": {
     "hide_input_from_viewers": false,
     "hide_output_from_viewers": false,
     "node_id": "jLMJWZMvNspFf1bDYRxtBp",
     "report_properties": {},
     "type": "CODE"
    }
   },
   "outputs": [
    {
     "data": {
      "text/plain": [
       "(0.51, 0.4998999899979995)"
      ]
     },
     "metadata": {},
     "output_type": "display_data"
    }
   ],
   "source": [
    "np.mean(y_pr),np.std(y_pr)"
   ]
  },
  {
   "cell_type": "code",
   "execution_count": 24,
   "metadata": {
    "datalore": {
     "hide_input_from_viewers": false,
     "hide_output_from_viewers": false,
     "node_id": "CRHKDzoigVfKVv1BfCOzbd",
     "report_properties": {},
     "type": "CODE"
    }
   },
   "outputs": [
    {
     "data": {
      "text/plain": [
       "(0.5021212121212121, 0.4999955004388908)"
      ]
     },
     "metadata": {},
     "output_type": "display_data"
    }
   ],
   "source": [
    "np.mean(y_te),np.std(y_te)"
   ]
  },
  {
   "cell_type": "code",
   "execution_count": 25,
   "metadata": {
    "datalore": {
     "hide_input_from_viewers": false,
     "hide_output_from_viewers": false,
     "node_id": "cQCCvd4RXqHKNwaAgu1EmX",
     "report_properties": {},
     "type": "CODE"
    }
   },
   "outputs": [
    {
     "data": {
      "text/html": [
       "<pre>array([[1.        , 0.84857737],\n",
       "       [0.84857737, 1.        ]])</pre>"
      ]
     },
     "metadata": {},
     "output_type": "display_data"
    }
   ],
   "source": [
    "np.corrcoef(y_te,y_pr)"
   ]
  },
  {
   "cell_type": "code",
   "execution_count": 26,
   "metadata": {
    "datalore": {
     "hide_input_from_viewers": false,
     "hide_output_from_viewers": false,
     "node_id": "RAK7doOoZNgX18OrFiK48k",
     "report_properties": {},
     "type": "CODE"
    }
   },
   "outputs": [],
   "source": [
    "mb = confusion_matrix(y_test, y_pred)"
   ]
  },
  {
   "cell_type": "code",
   "execution_count": 27,
   "metadata": {
    "datalore": {
     "hide_input_from_viewers": false,
     "hide_output_from_viewers": false,
     "node_id": "dUGhN9lqRAt2tajttPgD8i",
     "report_properties": {},
     "type": "CODE"
    }
   },
   "outputs": [
    {
     "data": {
      "text/html": [
       "<pre>array([[1505,  138],\n",
       "       [ 112, 1545]])</pre>"
      ]
     },
     "metadata": {},
     "output_type": "display_data"
    }
   ],
   "source": [
    "mb"
   ]
  },
  {
   "cell_type": "code",
   "execution_count": 28,
   "metadata": {
    "datalore": {
     "hide_input_from_viewers": false,
     "hide_output_from_viewers": false,
     "node_id": "i2YDiaz4yB3uiqV9kEakjY",
     "report_properties": {},
     "type": "CODE"
    }
   },
   "outputs": [],
   "source": [
    "# \"https://www.stackvidhya.com/plot-confusion-matrix-in-python-and-why/\""
   ]
  },
  {
   "cell_type": "code",
   "execution_count": null,
   "metadata": {
    "datalore": {
     "hide_input_from_viewers": false,
     "hide_output_from_viewers": false,
     "node_id": "pca91wBYfLmUVuuYBEEWpC",
     "report_properties": {},
     "type": "CODE"
    }
   },
   "outputs": [],
   "source": []
  }
 ],
 "metadata": {
  "datalore": {
   "base_environment": "default",
   "computation_mode": "JUPYTER",
   "package_manager": "pip",
   "packages": [],
   "version": 1
  },
  "kernelspec": {
   "display_name": "Python [conda env:JupyterEnv] *",
   "language": "python",
   "name": "conda-env-JupyterEnv-py"
  },
  "language_info": {
   "codemirror_mode": {
    "name": "ipython",
    "version": 3
   },
   "file_extension": ".py",
   "mimetype": "text/x-python",
   "name": "python",
   "nbconvert_exporter": "python",
   "pygments_lexer": "ipython3",
   "version": "3.9.16"
  }
 },
 "nbformat": 4,
 "nbformat_minor": 4
}
