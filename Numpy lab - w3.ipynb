{
 "cells": [
  {
   "cell_type": "markdown",
   "metadata": {
    "datalore": {
     "hide_input_from_viewers": false,
     "hide_output_from_viewers": false,
     "node_id": "lqbeGYV3qsdYlfMY7nIh4c",
     "type": "MD"
    }
   },
   "source": [
    "## Numpy lab - w3\n",
    "### Link: https://www.w3resource.com/python-exercises/numpy/basic/index.php"
   ]
  },
  {
   "cell_type": "markdown",
   "metadata": {
    "datalore": {
     "hide_input_from_viewers": false,
     "hide_output_from_viewers": false,
     "node_id": "pTQ3dEUvEMKPogbg4YTtxk",
     "type": "MD"
    }
   },
   "source": [
    "### Ex. 5. Write a NumPy program to test a given array element-wise for finiteness (not infinity or not a Number)"
   ]
  },
  {
   "cell_type": "code",
   "execution_count": 1,
   "metadata": {
    "datalore": {
     "hide_input_from_viewers": false,
     "hide_output_from_viewers": false,
     "node_id": "yyP5lBlplPj4J3LbmD8pNs",
     "type": "CODE"
    },
    "ExecuteTime": {
     "start_time": "2023-04-10T06:49:48.006977Z",
     "end_time": "2023-04-10T06:49:48.011280Z"
    }
   },
   "outputs": [
    {
     "data": {
      "text/plain": "array([ True,  True, False, False])"
     },
     "execution_count": 1,
     "metadata": {},
     "output_type": "execute_result"
    }
   ],
   "source": [
    "import numpy as np\n",
    "\n",
    "a = np.array([1, 3, np.nan, np.inf])\n",
    "np.isfinite(a)"
   ]
  },
  {
   "cell_type": "markdown",
   "metadata": {
    "datalore": {
     "hide_input_from_viewers": false,
     "hide_output_from_viewers": false,
     "node_id": "dRWGKcGyZBS9jnMLNUdHvA",
     "type": "MD"
    }
   },
   "source": [
    "### Ex. 11.Write a NumPy program to create an element-wise comparison (equal, equal within a tolerance) of two given arrays."
   ]
  },
  {
   "cell_type": "code",
   "execution_count": 2,
   "metadata": {
    "datalore": {
     "hide_input_from_viewers": false,
     "hide_output_from_viewers": false,
     "node_id": "rSQNCgNdsGVmkNgVPq6jVT",
     "type": "CODE"
    },
    "ExecuteTime": {
     "start_time": "2023-04-10T06:49:51.586735Z",
     "end_time": "2023-04-10T06:49:51.602589Z"
    }
   },
   "outputs": [
    {
     "name": "stdout",
     "output_type": "stream",
     "text": [
      "[[0.75615196 0.25787005 0.59851186 0.01483262 0.08670091]]\n",
      "[[0.10135955 0.20640786 0.05444965 0.73925589 0.07525859]]\n",
      "[[False False False False False]]\n",
      "[ True  True  True  True False]\n",
      "False\n"
     ]
    }
   ],
   "source": [
    "a_array = np.random.rand(1, 5)\n",
    "b_array = np.random.rand(1, 5)\n",
    "print(a_array)\n",
    "print(b_array)\n",
    "\n",
    "print(np.equal(a_array, b_array))\n",
    "\n",
    "a_array = np.array([1, 2, 3, 4, 5])\n",
    "b_array = np.array([1., 2., 3., 4., 5.0001])\n",
    "\n",
    "print(np.equal(a_array, b_array))\n",
    "print(np.allclose(a_array, b_array))"
   ]
  },
  {
   "cell_type": "markdown",
   "metadata": {
    "datalore": {
     "hide_input_from_viewers": false,
     "hide_output_from_viewers": false,
     "node_id": "sP3QwalSW1YetGVeSqysBH",
     "type": "MD"
    }
   },
   "source": [
    "### Ex. 17 Write a NumPy program to generate a random number between 0 and 1."
   ]
  },
  {
   "cell_type": "code",
   "execution_count": 3,
   "metadata": {
    "datalore": {
     "hide_input_from_viewers": false,
     "hide_output_from_viewers": false,
     "node_id": "qHzu8NbI1bQdtGW3qIEPIp",
     "type": "CODE"
    },
    "ExecuteTime": {
     "start_time": "2023-04-10T06:49:54.001261Z",
     "end_time": "2023-04-10T06:49:54.003282Z"
    }
   },
   "outputs": [
    {
     "data": {
      "text/plain": "array([0.32262643, 0.37298139, 0.31633163, 0.40402525, 0.58403638,\n       0.62534031, 0.03180804])"
     },
     "execution_count": 3,
     "metadata": {},
     "output_type": "execute_result"
    }
   ],
   "source": [
    "zero_to_one_array = np.random.rand(7)\n",
    "zero_to_one_array"
   ]
  },
  {
   "cell_type": "code",
   "execution_count": 4,
   "metadata": {
    "datalore": {
     "hide_input_from_viewers": false,
     "hide_output_from_viewers": false,
     "node_id": "OaQpDYdeRmeli8mTxW2XvM",
     "type": "CODE"
    },
    "ExecuteTime": {
     "start_time": "2023-04-10T06:49:55.123815Z",
     "end_time": "2023-04-10T06:49:55.132756Z"
    }
   },
   "outputs": [
    {
     "data": {
      "text/plain": "array([7, 0, 3, 5, 2])"
     },
     "execution_count": 4,
     "metadata": {},
     "output_type": "execute_result"
    }
   ],
   "source": [
    "zero_to_ten_array = np.random.randint(0, 11, 5)\n",
    "zero_to_ten_array"
   ]
  },
  {
   "cell_type": "markdown",
   "metadata": {
    "datalore": {
     "hide_input_from_viewers": false,
     "hide_output_from_viewers": false,
     "node_id": "EFNJIHfxNHlYOVuMuNssqs",
     "type": "MD"
    }
   },
   "source": [
    "### Ex. 23. Write a NumPy program to create a vector of length 5 filled with arbitrary integers from 0 to 10."
   ]
  },
  {
   "cell_type": "code",
   "execution_count": 5,
   "metadata": {
    "datalore": {
     "hide_input_from_viewers": false,
     "hide_output_from_viewers": false,
     "node_id": "NTPelN2xcSNlcyr5UCBKSx",
     "type": "CODE"
    },
    "ExecuteTime": {
     "start_time": "2023-04-10T06:49:57.090631Z",
     "end_time": "2023-04-10T06:49:57.093404Z"
    }
   },
   "outputs": [
    {
     "name": "stdout",
     "output_type": "stream",
     "text": [
      "[ 5 10  4  1  4]\n"
     ]
    }
   ],
   "source": [
    "zero_to_ten_int_array = np.random.randint(1, 11, 5)\n",
    "print(zero_to_ten_int_array)"
   ]
  },
  {
   "cell_type": "markdown",
   "metadata": {
    "datalore": {
     "hide_input_from_viewers": false,
     "hide_output_from_viewers": false,
     "node_id": "gU7k66IIICbRar5pzInfDP",
     "type": "MD"
    }
   },
   "source": [
    "### Ex. 29. Write a NumPy program to create a 5x5 zero matrix with elements on the main diagonal equal to 1, 2, 3, 4, 5."
   ]
  },
  {
   "cell_type": "code",
   "execution_count": 6,
   "metadata": {
    "datalore": {
     "hide_input_from_viewers": false,
     "hide_output_from_viewers": false,
     "node_id": "7YN0alUDyW9b3i5JTxDmyB",
     "type": "CODE"
    },
    "ExecuteTime": {
     "start_time": "2023-04-10T06:49:58.834325Z",
     "end_time": "2023-04-10T06:49:58.836493Z"
    }
   },
   "outputs": [
    {
     "data": {
      "text/plain": "array([[1, 0, 0, 0, 0],\n       [0, 2, 0, 0, 0],\n       [0, 0, 3, 0, 0],\n       [0, 0, 0, 4, 0],\n       [0, 0, 0, 0, 5]])"
     },
     "execution_count": 6,
     "metadata": {},
     "output_type": "execute_result"
    }
   ],
   "source": [
    "zeros_md_numbers = np.diag(range(1,6))\n",
    "zeros_md_numbers"
   ]
  },
  {
   "cell_type": "markdown",
   "metadata": {
    "datalore": {
     "hide_input_from_viewers": false,
     "hide_output_from_viewers": false,
     "node_id": "NBN5mFTuyNMUOSo2S7aKbM",
     "type": "MD"
    }
   },
   "source": [
    "### Ex. 35. Write a NumPy program to save a given array to a binary file "
   ]
  },
  {
   "cell_type": "code",
   "execution_count": 14,
   "metadata": {
    "datalore": {
     "hide_input_from_viewers": false,
     "hide_output_from_viewers": false,
     "node_id": "JQ3ESyt1352QgaNpsxqnHP",
     "type": "CODE"
    }
   },
   "outputs": [
    {
     "name": "stdout",
     "output_type": "stream",
     "text": [
      "Random array\n",
      " [[ 1  8 10  4  3]\n",
      " [ 4 10  3  7  5]\n",
      " [ 8  8  9  8 10]\n",
      " [ 1  1  8  8  5]\n",
      " [ 2  8  6 10  6]]\n"
     ]
    }
   ],
   "source": [
    "random_array = np.random.randint(1, 11, (5,5))\n",
    "print('Random array\\n', random_array)"
   ]
  },
  {
   "cell_type": "code",
   "execution_count": 15,
   "metadata": {
    "datalore": {
     "hide_input_from_viewers": false,
     "hide_output_from_viewers": false,
     "node_id": "UmmBXFdZHm72d8Ktn8UmpP",
     "type": "CODE"
    }
   },
   "outputs": [],
   "source": [
    "from tempfile import TemporaryFile\n",
    "tempFile = TemporaryFile()\n",
    "np.save(tempFile, random_array)"
   ]
  },
  {
   "cell_type": "code",
   "execution_count": 18,
   "metadata": {
    "datalore": {
     "hide_input_from_viewers": false,
     "hide_output_from_viewers": false,
     "node_id": "yf9putqDDm95pjrBq4etcG",
     "type": "CODE"
    }
   },
   "outputs": [
    {
     "data": {
      "text/html": [
       "<pre>array([[ 1,  8, 10,  4,  3],\n",
       "       [ 4, 10,  3,  7,  5],\n",
       "       [ 8,  8,  9,  8, 10],\n",
       "       [ 1,  1,  8,  8,  5],\n",
       "       [ 2,  8,  6, 10,  6]])</pre>"
      ]
     },
     "metadata": {},
     "output_type": "display_data"
    }
   ],
   "source": [
    "_ = tempFile.seek(0)\n",
    "np.load(tempFile)"
   ]
  }
 ],
 "metadata": {
  "datalore": {
   "base_environment": "default",
   "computation_mode": "JUPYTER",
   "package_manager": "pip",
   "packages": [],
   "version": 1
  },
  "kernelspec": {
   "display_name": "Python 3 (ipykernel)",
   "language": "python",
   "name": "python3"
  },
  "language_info": {
   "codemirror_mode": {
    "name": "ipython",
    "version": 3
   },
   "file_extension": ".py",
   "mimetype": "text/x-python",
   "name": "python",
   "nbconvert_exporter": "python",
   "pygments_lexer": "ipython3",
   "version": "3.9.13"
  }
 },
 "nbformat": 4,
 "nbformat_minor": 4
}
