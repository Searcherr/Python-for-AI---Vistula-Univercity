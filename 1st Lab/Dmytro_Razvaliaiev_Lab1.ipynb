{
 "cells":[
  {
   "cell_type":"markdown",
   "source":[
    "### 1. Let m be an integer. Using only the operations \/\/ and % make another integer n with a reversed sequence of digits with respect to m."
   ],
   "attachments":{
    
   },
   "metadata":{
    "datalore":{
     "node_id":"DvyRwUsOlzrrPQKzg8Gs1Y",
     "type":"MD",
     "hide_input_from_viewers":false,
     "hide_output_from_viewers":false
    }
   }
  },
  {
   "cell_type":"code",
   "source":[
    "m = 12345678\n",
    "n = 0\n",
    "while m > 0.1:\n",
    "    n =  n * 10 + m  % 10\n",
    "    m = m \/\/ 10\n",
    "print(n)"
   ],
   "execution_count":19,
   "outputs":[
    {
     "name":"stdout",
     "text":[
      "87654321\n"
     ],
     "output_type":"stream"
    }
   ],
   "metadata":{
    "datalore":{
     "node_id":"DGml0a7AVtKgdbqcSnYoKS",
     "type":"CODE",
     "hide_input_from_viewers":false,
     "hide_output_from_viewers":false
    }
   }
  },
  {
   "cell_type":"code",
   "source":[
    "m = 12345678\n",
    "n = int(str(m)[::-1])\n",
    "print(n)"
   ],
   "execution_count":20,
   "outputs":[
    {
     "name":"stdout",
     "text":[
      "87654321\n"
     ],
     "output_type":"stream"
    }
   ],
   "metadata":{
    "datalore":{
     "node_id":"9shMONuKqysoYFut6GKOi6",
     "type":"CODE",
     "hide_input_from_viewers":false,
     "hide_output_from_viewers":false
    }
   }
  },
  {
   "cell_type":"markdown",
   "source":[
    "### 2. This exercise is to help teach the concepts of limits of sequences.\n",
    "For a specific sequence like a_n = 1 + 1\/n^(3\/2), create lists containing:\n",
    "\n",
    "- a few tens of integers 'n';\n",
    "- a few tens of corresponding values a_n;\n",
    "- a few tens of corresponding values of |a_n - g|\n",
    "\n",
    "Allow the user to introduce her or his value of epsilon\n",
    "and let the program find such an N that \n",
    "|a_n - g| < epsilon if n > N. \n",
    "\n",
    "Use 'input' or 'raw_input' to allow the user to provide their values, e.g.\n",
    "eps = input(\"Please provide your epsilon\")."
   ],
   "attachments":{
    
   },
   "metadata":{
    "datalore":{
     "node_id":"IZIJGHiKKXhDywVRIJOoBB",
     "type":"MD",
     "hide_input_from_viewers":false,
     "hide_output_from_viewers":false
    }
   }
  },
  {
   "cell_type":"code",
   "source":[
    "#A few tens of integers 'n':\n",
    "n_list = [i for i in range(1, 31)]\n",
    "print(n_list)\n",
    "\n",
    "#A few tens of corresponding values a_n:\n",
    "a_n_list = [(1 + 1\/j**(3\/2)) for j in n_list]\n",
    "print(a_n_list)\n",
    "\n",
    "g = 1\n",
    "dist_from_limit = []\n",
    "for element in a_n_list:\n",
    "    dist_from_limit += [abs(element - g)]\n",
    "print(dist_from_limit)\n",
    "\n",
    "eps = float(input('Enter the eps: '))\n",
    "k = 0\n",
    "for element in dist_from_limit:\n",
    "    k += 1\n",
    "    if element < eps:\n",
    "        print(f\"This is the {k}'s element\")\n",
    "        break\n",
    "    "
   ],
   "execution_count":39,
   "outputs":[
    {
     "name":"stdout",
     "text":[
      "[1, 2, 3, 4, 5, 6, 7, 8, 9, 10, 11, 12, 13, 14, 15, 16, 17, 18, 19, 20, 21, 22, 23, 24, 25, 26, 27, 28, 29, 30]\n",
      "[2.0, 1.3535533905932737, 1.1924500897298753, 1.125, 1.0894427190999916, 1.0680413817439771, 1.053994924715604, 1.0441941738241591, 1.037037037037037, 1.0316227766016839, 1.0274101222343421, 1.0240562612162345, 1.0213346229317395, 1.0190900887080303, 1.0172132593164773, 1.015625, 1.0142668014727254, 1.0130945700219731, 1.012074512308977, 1.011180339887499, 1.0103913281064758, 1.0096909416525277, 1.009065844089438, 1.0085051727179972, 1.008, 1.0075429282745456, 1.0071277811011066, 1.0067493655894504, 1.0064032875233466, 1.006085806194502]\n",
      "[1.0, 0.35355339059327373, 0.19245008972987532, 0.125, 0.08944271909999157, 0.06804138174397711, 0.053994924715603965, 0.04419417382415913, 0.03703703703703698, 0.03162277660168389, 0.027410122234342138, 0.024056261216234498, 0.02133462293173949, 0.019090088708030306, 0.017213259316477325, 0.015625, 0.01426680147272541, 0.013094570021973118, 0.012074512308976937, 0.011180339887499002, 0.010391328106475806, 0.009690941652527707, 0.009065844089438002, 0.008505172717997223, 0.008000000000000007, 0.007542928274545613, 0.007127781101106567, 0.0067493655894503846, 0.0064032875233466235, 0.0060858061945019415]\n",
      "Enter the eps:  0.1\n",
      "This is the 5's element\n"
     ],
     "output_type":"stream"
    }
   ],
   "metadata":{
    "datalore":{
     "node_id":"OJUwAwP6V4PCl7VRMewDfW",
     "type":"CODE",
     "hide_input_from_viewers":false,
     "hide_output_from_viewers":false
    }
   }
  },
  {
   "cell_type":"markdown",
   "source":[
    "### 3. Write a program that sells \"Mars\" and \"Snickers\" bars. \n",
    "The prices of the bars are like 3 and 4 euros. \n",
    "The selling machine is to be able to give its user the remainder\n",
    "in 5, 2, and 1 zloty coins. \n",
    "\n",
    "For instance, a user indicates that she wants a \"Mars\" bar \n",
    "and puts 20 zlotych into the machine. The machine is \n",
    "to return 17 zlotych with 3 coins of 5 zlotych and 1 coin\n",
    "worth 2 zlote. These value should be printed out."
   ],
   "attachments":{
    
   },
   "metadata":{
    "datalore":{
     "node_id":"3zmaxyxHiNehzXTRnbeYlc",
     "type":"MD",
     "hide_input_from_viewers":false,
     "hide_output_from_viewers":false
    }
   }
  },
  {
   "cell_type":"code",
   "source":[
    "bar_dict = {\n",
    "    \"Mars\" : 3,\n",
    "    \"Snickers\" : 4\n",
    "}\n",
    "\n",
    "coin_list = [5, 2, 1]\n",
    "        \n",
    "\n",
    "def remainder(input_banknote, bar_price):\n",
    "    pass\n",
    "\n",
    "\n",
    "userBarName = input('Inpute the name of the bar: ')\n",
    "if userBarName not in bar_dict.keys():\n",
    "    print('There is no such a bar here')\n",
    "else:\n",
    "    banknoteDenomination = int(input('Input the denomination of the banknote'))\n",
    "\n",
    "if banknoteDenomination < bar_dict[barName]:\n",
    "    print('Need more gold!')\n",
    "else:\n",
    "    while banknoteDenomination > 0:\n",
    "        for coin in coin_list:\n",
    "            number_of_coins = 0\n",
    "            while banknoteDenomination >= coin:\n",
    "                banknoteDenomination = banknoteDenomination - coin\n",
    "                number_of_coins += 1\n",
    "            print(f\"You've got {number_of_coins} of {coin} zloty coins\")\n",
    "                                "
   ],
   "execution_count":47,
   "outputs":[
    {
     "name":"stdout",
     "text":[
      "Inpute the name of the bar:  Snickers\n",
      "Input the denomination of the banknote 67\n",
      "You've got 13 of 5 zloty coins\n",
      "You've got 1 of 2 zloty coins\n",
      "You've got 0 of 1 zloty coins\n"
     ],
     "output_type":"stream"
    }
   ],
   "metadata":{
    "datalore":{
     "node_id":"ulhjgekHka8jWVeQLjQWth",
     "type":"CODE",
     "hide_input_from_viewers":false,
     "hide_output_from_viewers":false
    }
   }
  },
  {
   "cell_type":"code",
   "source":[
    
   ],
   "execution_count":null,
   "outputs":[
    
   ],
   "metadata":{
    "datalore":{
     "node_id":"ACyq601b8quiksjpj7lp6y",
     "type":"CODE",
     "hide_input_from_viewers":false,
     "hide_output_from_viewers":false
    }
   }
  }
 ],
 "metadata":{
  "kernelspec":{
   "display_name":"Python",
   "language":"python",
   "name":"python"
  },
  "datalore":{
   "version":1,
   "computation_mode":"JUPYTER",
   "package_manager":"pip",
   "base_environment":"default",
   "packages":[
    
   ]
  }
 },
 "nbformat":4,
 "nbformat_minor":4
}