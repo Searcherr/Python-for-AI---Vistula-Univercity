{
 "cells": [
  {
   "cell_type": "code",
   "source": [
    "import numpy as np\n",
    "import pandas as pd\n",
    "from sklearn.ensemble import RandomForestClassifier\n",
    "from sklearn.preprocessing import MinMaxScaler\n",
    "from sklearn.metrics import confusion_matrix\n",
    "from sklearn.model_selection import train_test_split\n",
    "from sklearn.datasets import make_classification"
   ],
   "execution_count": null,
   "outputs": [],
   "metadata": {
    "datalore": {
     "node_id": "UYl1rIAa7VSTuljmXa9LkA",
     "type": "CODE",
     "hide_input_from_viewers": false,
     "hide_output_from_viewers": false
    },
    "pycharm": {
     "is_executing": true
    }
   }
  },
  {
   "cell_type": "code",
   "source": [
    "X, y = make_classification(n_samples = 10000, n_features = 20, n_classes = 2)"
   ],
   "execution_count": 2,
   "outputs": [],
   "metadata": {
    "datalore": {
     "node_id": "TxQ3Sno2M01TXRmKmDF03k",
     "type": "CODE",
     "hide_input_from_viewers": false,
     "hide_output_from_viewers": false
    }
   }
  },
  {
   "cell_type": "code",
   "source": [
    "X.shape, y.shape"
   ],
   "execution_count": 3,
   "outputs": [
    {
     "data": {
      "text/plain": [
       "((10000, 20), (10000,))"
      ]
     },
     "metadata": {},
     "output_type": "display_data"
    }
   ],
   "metadata": {
    "datalore": {
     "node_id": "KLWl6vg6wGShFbmf1Yxrdc",
     "type": "CODE",
     "hide_input_from_viewers": false,
     "hide_output_from_viewers": false
    }
   }
  },
  {
   "cell_type": "code",
   "source": [
    "print(y[:10])"
   ],
   "execution_count": 5,
   "outputs": [
    {
     "name": "stdout",
     "text": [
      "[0 1 1 1 0 1 0 1 1 1]\n"
     ],
     "output_type": "stream"
    }
   ],
   "metadata": {
    "datalore": {
     "node_id": "hq6RCaBBFf0OdDmU5hyyYN",
     "type": "CODE",
     "hide_input_from_viewers": false,
     "hide_output_from_viewers": false
    }
   }
  },
  {
   "cell_type": "code",
   "source": [
    "minmaxcs = MinMaxScaler()"
   ],
   "execution_count": 6,
   "outputs": [],
   "metadata": {
    "datalore": {
     "node_id": "Uqmdp8vy7E37T7giXruhU5",
     "type": "CODE",
     "hide_input_from_viewers": false,
     "hide_output_from_viewers": false
    }
   }
  },
  {
   "cell_type": "code",
   "source": [
    "X_train, X_test, y_train, y_test = train_test_split(X, y, test_size=0.3)"
   ],
   "execution_count": 8,
   "outputs": [],
   "metadata": {
    "datalore": {
     "node_id": "NKdipDQ2LpMd5WZKmatdZI",
     "type": "CODE",
     "hide_input_from_viewers": false,
     "hide_output_from_viewers": false
    }
   }
  },
  {
   "cell_type": "code",
   "source": [
    "X_train.shape, X_test.shape, y_train.shape, y_test.shape"
   ],
   "execution_count": 9,
   "outputs": [
    {
     "data": {
      "text/plain": [
       "((7000, 20), (3000, 20), (7000,), (3000,))"
      ]
     },
     "metadata": {},
     "output_type": "display_data"
    }
   ],
   "metadata": {
    "datalore": {
     "node_id": "CD76o52ffKQhxIto2H45iU",
     "type": "CODE",
     "hide_input_from_viewers": false,
     "hide_output_from_viewers": false
    }
   }
  },
  {
   "cell_type": "code",
   "source": [
    "X_train"
   ],
   "execution_count": 10,
   "outputs": [
    {
     "data": {
      "text/html": [
       "<pre>array([[ 0.14011196, -2.58445854,  0.61550055, ..., -1.20148264,\n",
       "         0.60024368,  0.51375752],\n",
       "       [ 0.53619644,  0.17064316, -1.8992461 , ..., -1.56676703,\n",
       "        -0.66571333, -0.39182243],\n",
       "       [-0.45291097,  1.65151991,  1.18192891, ..., -0.95921506,\n",
       "         0.07383697,  1.80272547],\n",
       "       ...,\n",
       "       [ 0.55345652, -0.08474506,  0.97128436, ...,  0.34903381,\n",
       "         1.03080012,  0.42128445],\n",
       "       [-0.74575666, -1.18812237,  0.85616438, ...,  0.92106882,\n",
       "         2.09919077, -0.00359408],\n",
       "       [-0.80194846, -0.81236047, -1.34267409, ...,  0.3504485 ,\n",
       "         1.72784299, -1.46812219]])</pre>"
      ]
     },
     "metadata": {},
     "output_type": "display_data"
    }
   ],
   "metadata": {
    "datalore": {
     "node_id": "Y60tTuyCugbQuyozPEudkM",
     "type": "CODE",
     "hide_input_from_viewers": false,
     "hide_output_from_viewers": false
    }
   }
  },
  {
   "cell_type": "code",
   "source": [
    "X_test"
   ],
   "execution_count": 11,
   "outputs": [
    {
     "data": {
      "text/html": [
       "<pre>array([[ 1.50891076e-03,  3.65523498e-01, -5.48164279e-01, ...,\n",
       "        -1.02046076e+00,  6.23986065e-01,  2.15123307e+00],\n",
       "       [ 3.71351899e-01, -1.19868195e+00, -6.07061107e-01, ...,\n",
       "        -6.32413009e-01,  1.03292758e+00,  8.19998928e-01],\n",
       "       [-2.30041632e-01,  1.31473411e+00, -1.25701883e+00, ...,\n",
       "         3.40323041e-01, -9.60173443e-01, -1.24646269e+00],\n",
       "       ...,\n",
       "       [ 2.58621999e+00, -9.27684190e-01, -6.71105981e-01, ...,\n",
       "         2.12043052e-01, -1.00537540e+00, -1.27462951e+00],\n",
       "       [-6.65796208e-01,  6.01763014e-01,  2.15849534e-01, ...,\n",
       "        -3.20437515e-01,  1.04594859e+00, -7.29167388e-01],\n",
       "       [-1.44588421e+00, -4.56867154e-01, -1.75299705e+00, ...,\n",
       "         1.07516150e+00, -1.05903392e+00,  1.42673700e+00]])</pre>"
      ]
     },
     "metadata": {},
     "output_type": "display_data"
    }
   ],
   "metadata": {
    "datalore": {
     "node_id": "ikqHG8TTceKBqmihQhdkFc",
     "type": "CODE",
     "hide_input_from_viewers": false,
     "hide_output_from_viewers": false
    }
   }
  },
  {
   "cell_type": "code",
   "source": [
    "model = RandomForestClassifier()"
   ],
   "execution_count": 12,
   "outputs": [],
   "metadata": {
    "datalore": {
     "node_id": "x7OciQqX1qUBl0klT2Ef70",
     "type": "CODE",
     "hide_input_from_viewers": false,
     "hide_output_from_viewers": false
    }
   }
  },
  {
   "cell_type": "code",
   "source": [
    "model.fit(X_train, y_train)"
   ],
   "execution_count": 13,
   "outputs": [
    {
     "data": {
      "text/plain": [
       "RandomForestClassifier()"
      ]
     },
     "metadata": {},
     "output_type": "display_data"
    }
   ],
   "metadata": {
    "datalore": {
     "node_id": "N7wW4DhWy5l6FzbzvrwRi2",
     "type": "CODE",
     "hide_input_from_viewers": false,
     "hide_output_from_viewers": false
    }
   }
  },
  {
   "cell_type": "code",
   "source": [
    "y_pred = model.predict(X_test)"
   ],
   "execution_count": 15,
   "outputs": [],
   "metadata": {
    "datalore": {
     "node_id": "4ML67OCVkSUHRCaDG6zLHK",
     "type": "CODE",
     "hide_input_from_viewers": false,
     "hide_output_from_viewers": false
    }
   }
  },
  {
   "cell_type": "code",
   "source": [
    "y_pred.shape"
   ],
   "execution_count": 16,
   "outputs": [
    {
     "data": {
      "text/plain": [
       "(3000,)"
      ]
     },
     "metadata": {},
     "output_type": "display_data"
    }
   ],
   "metadata": {
    "datalore": {
     "node_id": "zOKnhPphA3OHvK0Xg7fvRd",
     "type": "CODE",
     "hide_input_from_viewers": false,
     "hide_output_from_viewers": false
    }
   }
  },
  {
   "cell_type": "code",
   "source": [
    "y_pr, y_te = 1.0*y_pred, 1.0*y_test"
   ],
   "execution_count": 18,
   "outputs": [],
   "metadata": {
    "datalore": {
     "node_id": "q0Q0SVa66BeXuURMd1yEHI",
     "type": "CODE",
     "hide_input_from_viewers": false,
     "hide_output_from_viewers": false
    }
   }
  },
  {
   "cell_type": "code",
   "source": [
    "np.mean(y_pr), np.mean(y_te)"
   ],
   "execution_count": 19,
   "outputs": [
    {
     "data": {
      "text/plain": [
       "(0.48733333333333334, 0.49333333333333335)"
      ]
     },
     "metadata": {},
     "output_type": "display_data"
    }
   ],
   "metadata": {
    "datalore": {
     "node_id": "eF1uS5BqPf9G7KJPZcDfN6",
     "type": "CODE",
     "hide_input_from_viewers": false,
     "hide_output_from_viewers": false
    }
   }
  },
  {
   "cell_type": "code",
   "source": [
    "np.corrcoef(y_te, y_pr)"
   ],
   "execution_count": 20,
   "outputs": [
    {
     "data": {
      "text/html": [
       "<pre>array([[1.        , 0.97206058],\n",
       "       [0.97206058, 1.        ]])</pre>"
      ]
     },
     "metadata": {},
     "output_type": "display_data"
    }
   ],
   "metadata": {
    "datalore": {
     "node_id": "Uqvajq15DVnVwH6A2SxJjI",
     "type": "CODE",
     "hide_input_from_viewers": false,
     "hide_output_from_viewers": false
    }
   }
  },
  {
   "cell_type": "code",
   "source": [
    "confm = confusion_matrix(y_test, y_pred)\n",
    "print(confm)"
   ],
   "execution_count": 21,
   "outputs": [
    {
     "name": "stdout",
     "text": [
      "[[1508   12]\n",
      " [  30 1450]]\n"
     ],
     "output_type": "stream"
    }
   ],
   "metadata": {
    "datalore": {
     "node_id": "9pJfP9yUZOvezNQTHsjKTs",
     "type": "CODE",
     "hide_input_from_viewers": false,
     "hide_output_from_viewers": false
    }
   }
  },
  {
   "cell_type": "code",
   "source": [],
   "execution_count": null,
   "outputs": [],
   "metadata": {
    "datalore": {
     "node_id": "wulVoLTQl5VTI7xaybUwt2",
     "type": "CODE",
     "hide_input_from_viewers": false,
     "hide_output_from_viewers": false
    }
   }
  }
 ],
 "metadata": {
  "kernelspec": {
   "display_name": "Python",
   "language": "python",
   "name": "python"
  },
  "datalore": {
   "version": 1,
   "computation_mode": "JUPYTER",
   "package_manager": "pip",
   "base_environment": "default",
   "packages": []
  }
 },
 "nbformat": 4,
 "nbformat_minor": 4
}
