{
 "nbformat": 4,
 "nbformat_minor": 0,
 "metadata": {
  "colab": {
   "provenance": []
  },
  "kernelspec": {
   "name": "python3",
   "display_name": "Python 3"
  },
  "language_info": {
   "name": "python"
  }
 },
 "cells": [
  {
   "cell_type": "code",
   "metadata": {
    "id": "JcWrlT43MewA"
   },
   "source": [
    "import numpy as np\n",
    "import pandas as pd\n",
    "import matplotlib.pyplot as plt\n",
    "from sklearn.ensemble import RandomForestClassifier\n",
    "from sklearn.preprocessing import MinMaxScaler\n",
    "from sklearn.model_selection import train_test_split"
   ],
   "execution_count": 1,
   "outputs": []
  },
  {
   "cell_type": "code",
   "metadata": {
    "id": "NR4bg9BbOrm-"
   },
   "source": [
    "df=pd.read_csv(\"Data3.csv\")"
   ],
   "execution_count": 2,
   "outputs": []
  },
  {
   "cell_type": "code",
   "metadata": {
    "colab": {
     "base_uri": "https://localhost:8080/"
    },
    "id": "ks-SL7kVPIWv",
    "outputId": "a411ca84-2345-4840-d47e-8b8500185377"
   },
   "source": [
    "df.info()"
   ],
   "execution_count": 3,
   "outputs": [
    {
     "name": "stdout",
     "output_type": "stream",
     "text": [
      "<class 'pandas.core.frame.DataFrame'>\n",
      "RangeIndex: 274 entries, 0 to 273\n",
      "Data columns (total 5 columns):\n",
      " #   Column  Non-Null Count  Dtype\n",
      "---  ------  --------------  -----\n",
      " 0   66      274 non-null    int64\n",
      " 1   10      274 non-null    int64\n",
      " 2   29      274 non-null    int64\n",
      " 3   87      274 non-null    int64\n",
      " 4   1       274 non-null    int64\n",
      "dtypes: int64(5)\n",
      "memory usage: 10.8 KB\n"
     ]
    }
   ]
  },
  {
   "cell_type": "code",
   "metadata": {
    "colab": {
     "base_uri": "https://localhost:8080/",
     "height": 206
    },
    "id": "ksmT96LgPP8G",
    "outputId": "a4de5ce8-a2ee-4371-84df-ed6dab16c9f9"
   },
   "source": [
    "df.head()"
   ],
   "execution_count": 4,
   "outputs": [
    {
     "data": {
      "text/plain": "   66  10  29  87  1\n0  79  38  51  52  0\n1  77  11  58  66  0\n2  71  99  21  66  1\n3   0  15  56  83  1\n4  48  38  23  85  0",
      "text/html": "<div>\n<style scoped>\n    .dataframe tbody tr th:only-of-type {\n        vertical-align: middle;\n    }\n\n    .dataframe tbody tr th {\n        vertical-align: top;\n    }\n\n    .dataframe thead th {\n        text-align: right;\n    }\n</style>\n<table border=\"1\" class=\"dataframe\">\n  <thead>\n    <tr style=\"text-align: right;\">\n      <th></th>\n      <th>66</th>\n      <th>10</th>\n      <th>29</th>\n      <th>87</th>\n      <th>1</th>\n    </tr>\n  </thead>\n  <tbody>\n    <tr>\n      <th>0</th>\n      <td>79</td>\n      <td>38</td>\n      <td>51</td>\n      <td>52</td>\n      <td>0</td>\n    </tr>\n    <tr>\n      <th>1</th>\n      <td>77</td>\n      <td>11</td>\n      <td>58</td>\n      <td>66</td>\n      <td>0</td>\n    </tr>\n    <tr>\n      <th>2</th>\n      <td>71</td>\n      <td>99</td>\n      <td>21</td>\n      <td>66</td>\n      <td>1</td>\n    </tr>\n    <tr>\n      <th>3</th>\n      <td>0</td>\n      <td>15</td>\n      <td>56</td>\n      <td>83</td>\n      <td>1</td>\n    </tr>\n    <tr>\n      <th>4</th>\n      <td>48</td>\n      <td>38</td>\n      <td>23</td>\n      <td>85</td>\n      <td>0</td>\n    </tr>\n  </tbody>\n</table>\n</div>"
     },
     "execution_count": 4,
     "metadata": {},
     "output_type": "execute_result"
    }
   ]
  },
  {
   "cell_type": "code",
   "metadata": {
    "id": "5CmPDpbTQDYN"
   },
   "source": [
    "df.columns = ['A', 'B', 'C', 'D', \"Target\"]"
   ],
   "execution_count": 5,
   "outputs": []
  },
  {
   "cell_type": "code",
   "metadata": {
    "colab": {
     "base_uri": "https://localhost:8080/",
     "height": 206
    },
    "id": "UCL1pWqoQf4Q",
    "outputId": "f2c5fa11-3403-4509-e630-42d2e27ec04d"
   },
   "source": [
    "df.head()\n"
   ],
   "execution_count": 6,
   "outputs": [
    {
     "data": {
      "text/plain": "    A   B   C   D  Target\n0  79  38  51  52       0\n1  77  11  58  66       0\n2  71  99  21  66       1\n3   0  15  56  83       1\n4  48  38  23  85       0",
      "text/html": "<div>\n<style scoped>\n    .dataframe tbody tr th:only-of-type {\n        vertical-align: middle;\n    }\n\n    .dataframe tbody tr th {\n        vertical-align: top;\n    }\n\n    .dataframe thead th {\n        text-align: right;\n    }\n</style>\n<table border=\"1\" class=\"dataframe\">\n  <thead>\n    <tr style=\"text-align: right;\">\n      <th></th>\n      <th>A</th>\n      <th>B</th>\n      <th>C</th>\n      <th>D</th>\n      <th>Target</th>\n    </tr>\n  </thead>\n  <tbody>\n    <tr>\n      <th>0</th>\n      <td>79</td>\n      <td>38</td>\n      <td>51</td>\n      <td>52</td>\n      <td>0</td>\n    </tr>\n    <tr>\n      <th>1</th>\n      <td>77</td>\n      <td>11</td>\n      <td>58</td>\n      <td>66</td>\n      <td>0</td>\n    </tr>\n    <tr>\n      <th>2</th>\n      <td>71</td>\n      <td>99</td>\n      <td>21</td>\n      <td>66</td>\n      <td>1</td>\n    </tr>\n    <tr>\n      <th>3</th>\n      <td>0</td>\n      <td>15</td>\n      <td>56</td>\n      <td>83</td>\n      <td>1</td>\n    </tr>\n    <tr>\n      <th>4</th>\n      <td>48</td>\n      <td>38</td>\n      <td>23</td>\n      <td>85</td>\n      <td>0</td>\n    </tr>\n  </tbody>\n</table>\n</div>"
     },
     "execution_count": 6,
     "metadata": {},
     "output_type": "execute_result"
    }
   ]
  },
  {
   "cell_type": "code",
   "metadata": {
    "colab": {
     "base_uri": "https://localhost:8080/",
     "height": 300
    },
    "id": "Bp7RM3MrTaH7",
    "outputId": "c07f725f-7d25-4369-b264-ac912b61a910"
   },
   "source": [
    "df.describe()"
   ],
   "execution_count": 7,
   "outputs": [
    {
     "data": {
      "text/plain": "                A           B           C           D      Target\ncount  274.000000  274.000000  274.000000  274.000000  274.000000\nmean    49.642336   49.087591   52.375912   50.142336    0.540146\nstd     28.474714   29.159276   29.156034   29.346699    0.499298\nmin      0.000000    0.000000    0.000000    0.000000    0.000000\n25%     26.000000   24.000000   26.250000   25.000000    0.000000\n50%     51.500000   50.000000   54.500000   50.000000    1.000000\n75%     73.750000   73.750000   78.000000   76.750000    1.000000\nmax    100.000000  100.000000  100.000000  100.000000    1.000000",
      "text/html": "<div>\n<style scoped>\n    .dataframe tbody tr th:only-of-type {\n        vertical-align: middle;\n    }\n\n    .dataframe tbody tr th {\n        vertical-align: top;\n    }\n\n    .dataframe thead th {\n        text-align: right;\n    }\n</style>\n<table border=\"1\" class=\"dataframe\">\n  <thead>\n    <tr style=\"text-align: right;\">\n      <th></th>\n      <th>A</th>\n      <th>B</th>\n      <th>C</th>\n      <th>D</th>\n      <th>Target</th>\n    </tr>\n  </thead>\n  <tbody>\n    <tr>\n      <th>count</th>\n      <td>274.000000</td>\n      <td>274.000000</td>\n      <td>274.000000</td>\n      <td>274.000000</td>\n      <td>274.000000</td>\n    </tr>\n    <tr>\n      <th>mean</th>\n      <td>49.642336</td>\n      <td>49.087591</td>\n      <td>52.375912</td>\n      <td>50.142336</td>\n      <td>0.540146</td>\n    </tr>\n    <tr>\n      <th>std</th>\n      <td>28.474714</td>\n      <td>29.159276</td>\n      <td>29.156034</td>\n      <td>29.346699</td>\n      <td>0.499298</td>\n    </tr>\n    <tr>\n      <th>min</th>\n      <td>0.000000</td>\n      <td>0.000000</td>\n      <td>0.000000</td>\n      <td>0.000000</td>\n      <td>0.000000</td>\n    </tr>\n    <tr>\n      <th>25%</th>\n      <td>26.000000</td>\n      <td>24.000000</td>\n      <td>26.250000</td>\n      <td>25.000000</td>\n      <td>0.000000</td>\n    </tr>\n    <tr>\n      <th>50%</th>\n      <td>51.500000</td>\n      <td>50.000000</td>\n      <td>54.500000</td>\n      <td>50.000000</td>\n      <td>1.000000</td>\n    </tr>\n    <tr>\n      <th>75%</th>\n      <td>73.750000</td>\n      <td>73.750000</td>\n      <td>78.000000</td>\n      <td>76.750000</td>\n      <td>1.000000</td>\n    </tr>\n    <tr>\n      <th>max</th>\n      <td>100.000000</td>\n      <td>100.000000</td>\n      <td>100.000000</td>\n      <td>100.000000</td>\n      <td>1.000000</td>\n    </tr>\n  </tbody>\n</table>\n</div>"
     },
     "execution_count": 7,
     "metadata": {},
     "output_type": "execute_result"
    }
   ]
  },
  {
   "cell_type": "code",
   "source": [
    "!pwd"
   ],
   "metadata": {
    "colab": {
     "base_uri": "https://localhost:8080/"
    },
    "id": "He6FjB3R4CEd",
    "outputId": "c9b1029c-2c11-4719-e152-3c5a90a95465"
   },
   "execution_count": 8,
   "outputs": [
    {
     "name": "stdout",
     "output_type": "stream",
     "text": [
      "/home/searcherr/Coding/Python-for-AI---Vistula-Univercity/2nd Lab\r\n"
     ]
    }
   ]
  },
  {
   "cell_type": "code",
   "metadata": {
    "id": "O1H_OwupTkv1"
   },
   "source": [
    "data_wt = df.drop(\"Target\",axis=1)"
   ],
   "execution_count": 9,
   "outputs": []
  },
  {
   "cell_type": "code",
   "metadata": {
    "colab": {
     "base_uri": "https://localhost:8080/",
     "height": 206
    },
    "id": "M6_ZHa-3Uzul",
    "outputId": "f98de8ee-3bbe-4fd5-8597-0296a677e36d"
   },
   "source": [
    "data_wt.head()"
   ],
   "execution_count": 10,
   "outputs": [
    {
     "data": {
      "text/plain": "    A   B   C   D\n0  79  38  51  52\n1  77  11  58  66\n2  71  99  21  66\n3   0  15  56  83\n4  48  38  23  85",
      "text/html": "<div>\n<style scoped>\n    .dataframe tbody tr th:only-of-type {\n        vertical-align: middle;\n    }\n\n    .dataframe tbody tr th {\n        vertical-align: top;\n    }\n\n    .dataframe thead th {\n        text-align: right;\n    }\n</style>\n<table border=\"1\" class=\"dataframe\">\n  <thead>\n    <tr style=\"text-align: right;\">\n      <th></th>\n      <th>A</th>\n      <th>B</th>\n      <th>C</th>\n      <th>D</th>\n    </tr>\n  </thead>\n  <tbody>\n    <tr>\n      <th>0</th>\n      <td>79</td>\n      <td>38</td>\n      <td>51</td>\n      <td>52</td>\n    </tr>\n    <tr>\n      <th>1</th>\n      <td>77</td>\n      <td>11</td>\n      <td>58</td>\n      <td>66</td>\n    </tr>\n    <tr>\n      <th>2</th>\n      <td>71</td>\n      <td>99</td>\n      <td>21</td>\n      <td>66</td>\n    </tr>\n    <tr>\n      <th>3</th>\n      <td>0</td>\n      <td>15</td>\n      <td>56</td>\n      <td>83</td>\n    </tr>\n    <tr>\n      <th>4</th>\n      <td>48</td>\n      <td>38</td>\n      <td>23</td>\n      <td>85</td>\n    </tr>\n  </tbody>\n</table>\n</div>"
     },
     "execution_count": 10,
     "metadata": {},
     "output_type": "execute_result"
    }
   ]
  },
  {
   "cell_type": "code",
   "metadata": {
    "id": "Z3HubPkWU475"
   },
   "source": [
    "minmaxsc = MinMaxScaler()"
   ],
   "execution_count": 11,
   "outputs": []
  },
  {
   "cell_type": "code",
   "metadata": {
    "id": "QgV5y9LSV9zF"
   },
   "source": [
    "data_in = pd.DataFrame(minmaxsc.fit_transform(data_wt), \n",
    "                       columns=[\"A\",\"B\",\"C\",\"D\"])"
   ],
   "execution_count": 12,
   "outputs": []
  },
  {
   "cell_type": "code",
   "metadata": {
    "colab": {
     "base_uri": "https://localhost:8080/",
     "height": 206
    },
    "id": "d87wvXbRXIig",
    "outputId": "15ccb89b-698c-4fdd-c996-d5c1158c496b"
   },
   "source": [
    "data_in.head()"
   ],
   "execution_count": 13,
   "outputs": [
    {
     "data": {
      "text/plain": "      A     B     C     D\n0  0.79  0.38  0.51  0.52\n1  0.77  0.11  0.58  0.66\n2  0.71  0.99  0.21  0.66\n3  0.00  0.15  0.56  0.83\n4  0.48  0.38  0.23  0.85",
      "text/html": "<div>\n<style scoped>\n    .dataframe tbody tr th:only-of-type {\n        vertical-align: middle;\n    }\n\n    .dataframe tbody tr th {\n        vertical-align: top;\n    }\n\n    .dataframe thead th {\n        text-align: right;\n    }\n</style>\n<table border=\"1\" class=\"dataframe\">\n  <thead>\n    <tr style=\"text-align: right;\">\n      <th></th>\n      <th>A</th>\n      <th>B</th>\n      <th>C</th>\n      <th>D</th>\n    </tr>\n  </thead>\n  <tbody>\n    <tr>\n      <th>0</th>\n      <td>0.79</td>\n      <td>0.38</td>\n      <td>0.51</td>\n      <td>0.52</td>\n    </tr>\n    <tr>\n      <th>1</th>\n      <td>0.77</td>\n      <td>0.11</td>\n      <td>0.58</td>\n      <td>0.66</td>\n    </tr>\n    <tr>\n      <th>2</th>\n      <td>0.71</td>\n      <td>0.99</td>\n      <td>0.21</td>\n      <td>0.66</td>\n    </tr>\n    <tr>\n      <th>3</th>\n      <td>0.00</td>\n      <td>0.15</td>\n      <td>0.56</td>\n      <td>0.83</td>\n    </tr>\n    <tr>\n      <th>4</th>\n      <td>0.48</td>\n      <td>0.38</td>\n      <td>0.23</td>\n      <td>0.85</td>\n    </tr>\n  </tbody>\n</table>\n</div>"
     },
     "execution_count": 13,
     "metadata": {},
     "output_type": "execute_result"
    }
   ]
  },
  {
   "cell_type": "code",
   "source": [
    "data_in.describe()"
   ],
   "metadata": {
    "colab": {
     "base_uri": "https://localhost:8080/",
     "height": 300
    },
    "id": "nMuff9awInYw",
    "outputId": "a7b549ab-43ad-4b38-f465-bf7402162584"
   },
   "execution_count": 14,
   "outputs": [
    {
     "data": {
      "text/plain": "                A           B           C           D\ncount  274.000000  274.000000  274.000000  274.000000\nmean     0.496423    0.490876    0.523759    0.501423\nstd      0.284747    0.291593    0.291560    0.293467\nmin      0.000000    0.000000    0.000000    0.000000\n25%      0.260000    0.240000    0.262500    0.250000\n50%      0.515000    0.500000    0.545000    0.500000\n75%      0.737500    0.737500    0.780000    0.767500\nmax      1.000000    1.000000    1.000000    1.000000",
      "text/html": "<div>\n<style scoped>\n    .dataframe tbody tr th:only-of-type {\n        vertical-align: middle;\n    }\n\n    .dataframe tbody tr th {\n        vertical-align: top;\n    }\n\n    .dataframe thead th {\n        text-align: right;\n    }\n</style>\n<table border=\"1\" class=\"dataframe\">\n  <thead>\n    <tr style=\"text-align: right;\">\n      <th></th>\n      <th>A</th>\n      <th>B</th>\n      <th>C</th>\n      <th>D</th>\n    </tr>\n  </thead>\n  <tbody>\n    <tr>\n      <th>count</th>\n      <td>274.000000</td>\n      <td>274.000000</td>\n      <td>274.000000</td>\n      <td>274.000000</td>\n    </tr>\n    <tr>\n      <th>mean</th>\n      <td>0.496423</td>\n      <td>0.490876</td>\n      <td>0.523759</td>\n      <td>0.501423</td>\n    </tr>\n    <tr>\n      <th>std</th>\n      <td>0.284747</td>\n      <td>0.291593</td>\n      <td>0.291560</td>\n      <td>0.293467</td>\n    </tr>\n    <tr>\n      <th>min</th>\n      <td>0.000000</td>\n      <td>0.000000</td>\n      <td>0.000000</td>\n      <td>0.000000</td>\n    </tr>\n    <tr>\n      <th>25%</th>\n      <td>0.260000</td>\n      <td>0.240000</td>\n      <td>0.262500</td>\n      <td>0.250000</td>\n    </tr>\n    <tr>\n      <th>50%</th>\n      <td>0.515000</td>\n      <td>0.500000</td>\n      <td>0.545000</td>\n      <td>0.500000</td>\n    </tr>\n    <tr>\n      <th>75%</th>\n      <td>0.737500</td>\n      <td>0.737500</td>\n      <td>0.780000</td>\n      <td>0.767500</td>\n    </tr>\n    <tr>\n      <th>max</th>\n      <td>1.000000</td>\n      <td>1.000000</td>\n      <td>1.000000</td>\n      <td>1.000000</td>\n    </tr>\n  </tbody>\n</table>\n</div>"
     },
     "execution_count": 14,
     "metadata": {},
     "output_type": "execute_result"
    }
   ]
  },
  {
   "cell_type": "code",
   "metadata": {
    "id": "jNcl3xQzXLrX"
   },
   "source": [
    "data_new=pd.concat([data_in, df[\"Target\"]],axis=1)"
   ],
   "execution_count": 15,
   "outputs": []
  },
  {
   "cell_type": "code",
   "metadata": {
    "colab": {
     "base_uri": "https://localhost:8080/",
     "height": 206
    },
    "id": "gkHBiqoGZLtM",
    "outputId": "ac5f0554-500b-4778-b103-7f1ba59c35c0"
   },
   "source": [
    "data_new.head()"
   ],
   "execution_count": 16,
   "outputs": [
    {
     "data": {
      "text/plain": "      A     B     C     D  Target\n0  0.79  0.38  0.51  0.52       0\n1  0.77  0.11  0.58  0.66       0\n2  0.71  0.99  0.21  0.66       1\n3  0.00  0.15  0.56  0.83       1\n4  0.48  0.38  0.23  0.85       0",
      "text/html": "<div>\n<style scoped>\n    .dataframe tbody tr th:only-of-type {\n        vertical-align: middle;\n    }\n\n    .dataframe tbody tr th {\n        vertical-align: top;\n    }\n\n    .dataframe thead th {\n        text-align: right;\n    }\n</style>\n<table border=\"1\" class=\"dataframe\">\n  <thead>\n    <tr style=\"text-align: right;\">\n      <th></th>\n      <th>A</th>\n      <th>B</th>\n      <th>C</th>\n      <th>D</th>\n      <th>Target</th>\n    </tr>\n  </thead>\n  <tbody>\n    <tr>\n      <th>0</th>\n      <td>0.79</td>\n      <td>0.38</td>\n      <td>0.51</td>\n      <td>0.52</td>\n      <td>0</td>\n    </tr>\n    <tr>\n      <th>1</th>\n      <td>0.77</td>\n      <td>0.11</td>\n      <td>0.58</td>\n      <td>0.66</td>\n      <td>0</td>\n    </tr>\n    <tr>\n      <th>2</th>\n      <td>0.71</td>\n      <td>0.99</td>\n      <td>0.21</td>\n      <td>0.66</td>\n      <td>1</td>\n    </tr>\n    <tr>\n      <th>3</th>\n      <td>0.00</td>\n      <td>0.15</td>\n      <td>0.56</td>\n      <td>0.83</td>\n      <td>1</td>\n    </tr>\n    <tr>\n      <th>4</th>\n      <td>0.48</td>\n      <td>0.38</td>\n      <td>0.23</td>\n      <td>0.85</td>\n      <td>0</td>\n    </tr>\n  </tbody>\n</table>\n</div>"
     },
     "execution_count": 16,
     "metadata": {},
     "output_type": "execute_result"
    }
   ]
  },
  {
   "cell_type": "code",
   "metadata": {
    "id": "mN500I04Zj7K"
   },
   "source": [
    "X=data_new.drop(\"Target\",axis=1)\n",
    "y=data_new[[\"Target\"]]"
   ],
   "execution_count": 17,
   "outputs": []
  },
  {
   "cell_type": "code",
   "metadata": {
    "id": "PvbUQIMkZ955"
   },
   "source": [
    "X_train, X_Test, y_train, y_test=train_test_split(X,y, test_size=0.33)"
   ],
   "execution_count": 18,
   "outputs": []
  },
  {
   "cell_type": "code",
   "metadata": {
    "colab": {
     "base_uri": "https://localhost:8080/"
    },
    "id": "dyBMT9OaaK34",
    "outputId": "14bd471b-613c-4907-c1e1-f9229ca57adb"
   },
   "source": [
    "len(y_train), len(y_test)"
   ],
   "execution_count": 19,
   "outputs": [
    {
     "data": {
      "text/plain": "(183, 91)"
     },
     "execution_count": 19,
     "metadata": {},
     "output_type": "execute_result"
    }
   ]
  },
  {
   "cell_type": "code",
   "metadata": {
    "id": "EBp0xJD5am-q"
   },
   "source": [
    "model=RandomForestClassifier()"
   ],
   "execution_count": 20,
   "outputs": []
  },
  {
   "cell_type": "code",
   "metadata": {
    "colab": {
     "base_uri": "https://localhost:8080/"
    },
    "id": "rFY7TUDba3qH",
    "outputId": "4bce3e5b-cac0-4df6-f8f8-586a92e07bd2"
   },
   "source": [
    "model.fit(X_train, y_train)"
   ],
   "execution_count": 21,
   "outputs": [
    {
     "name": "stderr",
     "output_type": "stream",
     "text": [
      "/tmp/ipykernel_10688/60041271.py:1: DataConversionWarning: A column-vector y was passed when a 1d array was expected. Please change the shape of y to (n_samples,), for example using ravel().\n",
      "  model.fit(X_train, y_train)\n"
     ]
    },
    {
     "data": {
      "text/plain": "RandomForestClassifier()",
      "text/html": "<style>#sk-container-id-1 {color: black;background-color: white;}#sk-container-id-1 pre{padding: 0;}#sk-container-id-1 div.sk-toggleable {background-color: white;}#sk-container-id-1 label.sk-toggleable__label {cursor: pointer;display: block;width: 100%;margin-bottom: 0;padding: 0.3em;box-sizing: border-box;text-align: center;}#sk-container-id-1 label.sk-toggleable__label-arrow:before {content: \"▸\";float: left;margin-right: 0.25em;color: #696969;}#sk-container-id-1 label.sk-toggleable__label-arrow:hover:before {color: black;}#sk-container-id-1 div.sk-estimator:hover label.sk-toggleable__label-arrow:before {color: black;}#sk-container-id-1 div.sk-toggleable__content {max-height: 0;max-width: 0;overflow: hidden;text-align: left;background-color: #f0f8ff;}#sk-container-id-1 div.sk-toggleable__content pre {margin: 0.2em;color: black;border-radius: 0.25em;background-color: #f0f8ff;}#sk-container-id-1 input.sk-toggleable__control:checked~div.sk-toggleable__content {max-height: 200px;max-width: 100%;overflow: auto;}#sk-container-id-1 input.sk-toggleable__control:checked~label.sk-toggleable__label-arrow:before {content: \"▾\";}#sk-container-id-1 div.sk-estimator input.sk-toggleable__control:checked~label.sk-toggleable__label {background-color: #d4ebff;}#sk-container-id-1 div.sk-label input.sk-toggleable__control:checked~label.sk-toggleable__label {background-color: #d4ebff;}#sk-container-id-1 input.sk-hidden--visually {border: 0;clip: rect(1px 1px 1px 1px);clip: rect(1px, 1px, 1px, 1px);height: 1px;margin: -1px;overflow: hidden;padding: 0;position: absolute;width: 1px;}#sk-container-id-1 div.sk-estimator {font-family: monospace;background-color: #f0f8ff;border: 1px dotted black;border-radius: 0.25em;box-sizing: border-box;margin-bottom: 0.5em;}#sk-container-id-1 div.sk-estimator:hover {background-color: #d4ebff;}#sk-container-id-1 div.sk-parallel-item::after {content: \"\";width: 100%;border-bottom: 1px solid gray;flex-grow: 1;}#sk-container-id-1 div.sk-label:hover label.sk-toggleable__label {background-color: #d4ebff;}#sk-container-id-1 div.sk-serial::before {content: \"\";position: absolute;border-left: 1px solid gray;box-sizing: border-box;top: 0;bottom: 0;left: 50%;z-index: 0;}#sk-container-id-1 div.sk-serial {display: flex;flex-direction: column;align-items: center;background-color: white;padding-right: 0.2em;padding-left: 0.2em;position: relative;}#sk-container-id-1 div.sk-item {position: relative;z-index: 1;}#sk-container-id-1 div.sk-parallel {display: flex;align-items: stretch;justify-content: center;background-color: white;position: relative;}#sk-container-id-1 div.sk-item::before, #sk-container-id-1 div.sk-parallel-item::before {content: \"\";position: absolute;border-left: 1px solid gray;box-sizing: border-box;top: 0;bottom: 0;left: 50%;z-index: -1;}#sk-container-id-1 div.sk-parallel-item {display: flex;flex-direction: column;z-index: 1;position: relative;background-color: white;}#sk-container-id-1 div.sk-parallel-item:first-child::after {align-self: flex-end;width: 50%;}#sk-container-id-1 div.sk-parallel-item:last-child::after {align-self: flex-start;width: 50%;}#sk-container-id-1 div.sk-parallel-item:only-child::after {width: 0;}#sk-container-id-1 div.sk-dashed-wrapped {border: 1px dashed gray;margin: 0 0.4em 0.5em 0.4em;box-sizing: border-box;padding-bottom: 0.4em;background-color: white;}#sk-container-id-1 div.sk-label label {font-family: monospace;font-weight: bold;display: inline-block;line-height: 1.2em;}#sk-container-id-1 div.sk-label-container {text-align: center;}#sk-container-id-1 div.sk-container {/* jupyter's `normalize.less` sets `[hidden] { display: none; }` but bootstrap.min.css set `[hidden] { display: none !important; }` so we also need the `!important` here to be able to override the default hidden behavior on the sphinx rendered scikit-learn.org. See: https://github.com/scikit-learn/scikit-learn/issues/21755 */display: inline-block !important;position: relative;}#sk-container-id-1 div.sk-text-repr-fallback {display: none;}</style><div id=\"sk-container-id-1\" class=\"sk-top-container\"><div class=\"sk-text-repr-fallback\"><pre>RandomForestClassifier()</pre><b>In a Jupyter environment, please rerun this cell to show the HTML representation or trust the notebook. <br />On GitHub, the HTML representation is unable to render, please try loading this page with nbviewer.org.</b></div><div class=\"sk-container\" hidden><div class=\"sk-item\"><div class=\"sk-estimator sk-toggleable\"><input class=\"sk-toggleable__control sk-hidden--visually\" id=\"sk-estimator-id-1\" type=\"checkbox\" checked><label for=\"sk-estimator-id-1\" class=\"sk-toggleable__label sk-toggleable__label-arrow\">RandomForestClassifier</label><div class=\"sk-toggleable__content\"><pre>RandomForestClassifier()</pre></div></div></div></div></div>"
     },
     "execution_count": 21,
     "metadata": {},
     "output_type": "execute_result"
    }
   ]
  },
  {
   "cell_type": "code",
   "metadata": {
    "id": "mpabnA47bAi2"
   },
   "source": [
    "y_pred=model.predict(X_Test)"
   ],
   "execution_count": 22,
   "outputs": []
  },
  {
   "cell_type": "code",
   "metadata": {
    "colab": {
     "base_uri": "https://localhost:8080/"
    },
    "id": "JBvNckktbJ8s",
    "outputId": "39dc59e4-f7ab-44e7-96a3-c43093742c4f"
   },
   "source": [
    "print(y_pred)"
   ],
   "execution_count": 23,
   "outputs": [
    {
     "name": "stdout",
     "output_type": "stream",
     "text": [
      "[0 1 0 0 0 1 1 1 1 1 0 1 0 1 0 1 1 0 1 1 1 0 1 1 1 1 1 0 1 1 0 1 1 0 1 1 1\n",
      " 1 1 1 1 0 0 0 0 1 1 1 1 1 1 1 1 1 0 1 0 0 0 1 0 1 0 1 1 0 0 0 1 1 0 0 0 0\n",
      " 1 1 1 0 0 0 1 1 0 1 1 0 1 0 1 0 0]\n"
     ]
    }
   ]
  },
  {
   "cell_type": "code",
   "metadata": {
    "colab": {
     "base_uri": "https://localhost:8080/"
    },
    "id": "N3adx9m1bQ6T",
    "outputId": "6774bc72-ca17-45fc-dab5-3dbbc117ffa9"
   },
   "source": [
    "len(y_pred), len(y_test)\n"
   ],
   "execution_count": 24,
   "outputs": [
    {
     "data": {
      "text/plain": "(91, 91)"
     },
     "execution_count": 24,
     "metadata": {},
     "output_type": "execute_result"
    }
   ]
  },
  {
   "cell_type": "markdown",
   "source": [
    "### Task  \n",
    "#### Please compare the resulting data contained in y_test and y_pred. \n",
    "To do this, please calculate how many times the predictions are correct\n",
    "(that is, how many times y_pred[i] is equal to y_test[i], i = 0, 1, 2,.., len(y_test), and how many times it is not equal). Please provide your answer\n",
    "in percent, and give a few words of comment. Please use your own notebooks."
   ],
   "metadata": {
    "id": "KVYvqJOKMq6c"
   }
  },
  {
   "cell_type": "code",
   "execution_count": 25,
   "outputs": [
    {
     "data": {
      "text/plain": "pandas.core.frame.DataFrame"
     },
     "execution_count": 25,
     "metadata": {},
     "output_type": "execute_result"
    }
   ],
   "source": [
    "type(y_test)"
   ],
   "metadata": {
    "collapsed": false
   }
  },
  {
   "cell_type": "markdown",
   "source": [
    "### y_test has a pandas dataframe type. So we need to convert it to the numpy_array"
   ],
   "metadata": {
    "collapsed": false
   }
  },
  {
   "cell_type": "code",
   "execution_count": 26,
   "outputs": [
    {
     "name": "stdout",
     "output_type": "stream",
     "text": [
      "<class 'numpy.ndarray'> 91\n"
     ]
    }
   ],
   "source": [
    "numpy_y_test = y_test.to_numpy()\n",
    "print(type(numpy_y_test), len(numpy_y_test))\n"
   ],
   "metadata": {
    "collapsed": false
   }
  },
  {
   "cell_type": "markdown",
   "source": [
    "### Checkin is there is some different in the arrays"
   ],
   "metadata": {
    "collapsed": false
   }
  },
  {
   "cell_type": "code",
   "metadata": {
    "id": "IrUw1cZPcInz"
   },
   "source": [
    "for i in range(len(y_pred)):\n",
    "    print(y_pred[i], end = ' - ')\n",
    "    print(int(numpy_y_test[i]))"
   ],
   "execution_count": 27,
   "outputs": [
    {
     "name": "stdout",
     "output_type": "stream",
     "text": [
      "0 - 0\n",
      "1 - 1\n",
      "0 - 0\n",
      "0 - 1\n",
      "0 - 1\n",
      "1 - 1\n",
      "1 - 1\n",
      "1 - 0\n",
      "1 - 1\n",
      "1 - 1\n",
      "0 - 1\n",
      "1 - 1\n",
      "0 - 0\n",
      "1 - 1\n",
      "0 - 1\n",
      "1 - 1\n",
      "1 - 1\n",
      "0 - 1\n",
      "1 - 0\n",
      "1 - 1\n",
      "1 - 0\n",
      "0 - 1\n",
      "1 - 0\n",
      "1 - 0\n",
      "1 - 1\n",
      "1 - 0\n",
      "1 - 1\n",
      "0 - 0\n",
      "1 - 0\n",
      "1 - 0\n",
      "0 - 0\n",
      "1 - 1\n",
      "1 - 0\n",
      "0 - 1\n",
      "1 - 1\n",
      "1 - 1\n",
      "1 - 0\n",
      "1 - 1\n",
      "1 - 1\n",
      "1 - 1\n",
      "1 - 1\n",
      "0 - 1\n",
      "0 - 1\n",
      "0 - 0\n",
      "0 - 1\n",
      "1 - 0\n",
      "1 - 0\n",
      "1 - 1\n",
      "1 - 1\n",
      "1 - 0\n",
      "1 - 1\n",
      "1 - 1\n",
      "1 - 1\n",
      "1 - 0\n",
      "0 - 1\n",
      "1 - 0\n",
      "0 - 1\n",
      "0 - 0\n",
      "0 - 0\n",
      "1 - 1\n",
      "0 - 1\n",
      "1 - 0\n",
      "0 - 1\n",
      "1 - 0\n",
      "1 - 1\n",
      "0 - 1\n",
      "0 - 0\n",
      "0 - 1\n",
      "1 - 0\n",
      "1 - 0\n",
      "0 - 1\n",
      "0 - 0\n",
      "0 - 0\n",
      "0 - 0\n",
      "1 - 0\n",
      "1 - 1\n",
      "1 - 0\n",
      "0 - 1\n",
      "0 - 1\n",
      "0 - 1\n",
      "1 - 1\n",
      "1 - 1\n",
      "0 - 0\n",
      "1 - 1\n",
      "1 - 1\n",
      "0 - 0\n",
      "1 - 0\n",
      "0 - 0\n",
      "1 - 1\n",
      "0 - 1\n",
      "0 - 0\n"
     ]
    }
   ]
  },
  {
   "cell_type": "markdown",
   "source": [
    "### We are definitely seeing them, so let's check the number of wrong predictions"
   ],
   "metadata": {
    "collapsed": false
   }
  },
  {
   "cell_type": "code",
   "execution_count": 72,
   "outputs": [
    {
     "name": "stdout",
     "output_type": "stream",
     "text": [
      "The accuracy of our model is 50.54945054945055 per cent\n"
     ]
    }
   ],
   "source": [
    "error_numbers = 0\n",
    "for i in range(len(y_pred)):\n",
    "    error_numbers += abs(float(y_pred[i] - numpy_y_test[i]))\n",
    "\n",
    "accuracy = 1 - error_numbers / len(y_pred)\n",
    "print(f\"The accuracy of our model is {accuracy * 100} per cent\")"
   ],
   "metadata": {
    "collapsed": false
   }
  },
  {
   "cell_type": "code",
   "execution_count": null,
   "outputs": [],
   "source": [],
   "metadata": {
    "collapsed": false
   }
  }
 ]
}
