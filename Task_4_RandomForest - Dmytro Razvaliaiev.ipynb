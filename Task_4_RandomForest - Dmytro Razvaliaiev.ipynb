{
 "cells": [
  {
   "cell_type": "code",
   "source": [
    "import numpy as np\n",
    "import pandas as pd\n",
    "import matplotlib.pyplot as plt\n",
    "from sklearn.ensemble import RandomForestClassifier\n",
    "from sklearn.preprocessing import MinMaxScaler\n",
    "from sklearn.model_selection import train_test_split"
   ],
   "execution_count": null,
   "outputs": [],
   "metadata": {
    "datalore": {
     "node_id": "CVPwSFDJqT3C801dS3Mt2j",
     "type": "CODE",
     "hide_input_from_viewers": false,
     "hide_output_from_viewers": false,
     "report_properties": {}
    },
    "pycharm": {
     "is_executing": true
    }
   }
  },
  {
   "cell_type": "code",
   "source": [
    "df=pd.read_csv(\"Data3.csv\")"
   ],
   "execution_count": 2,
   "outputs": [],
   "metadata": {
    "datalore": {
     "node_id": "CawMFHKatqDhJxFSRzOhmQ",
     "type": "CODE",
     "hide_input_from_viewers": false,
     "hide_output_from_viewers": false,
     "report_properties": {}
    }
   }
  },
  {
   "cell_type": "code",
   "source": [
    "df.info()"
   ],
   "execution_count": 3,
   "outputs": [
    {
     "name": "stdout",
     "text": [
      "<class 'pandas.core.frame.DataFrame'>\n",
      "RangeIndex: 274 entries, 0 to 273\n",
      "Data columns (total 5 columns):\n",
      " #   Column  Non-Null Count  Dtype\n",
      "---  ------  --------------  -----\n",
      " 0   66      274 non-null    int64\n",
      " 1   10      274 non-null    int64\n",
      " 2   29      274 non-null    int64\n",
      " 3   87      274 non-null    int64\n",
      " 4   1       274 non-null    int64\n",
      "dtypes: int64(5)\n",
      "memory usage: 10.8 KB\n"
     ],
     "output_type": "stream"
    }
   ],
   "metadata": {
    "datalore": {
     "node_id": "6XbvTPvNWmpcEyeZRIxhvq",
     "type": "CODE",
     "hide_input_from_viewers": false,
     "hide_output_from_viewers": false,
     "report_properties": {}
    }
   }
  },
  {
   "cell_type": "code",
   "source": [
    "df.head()"
   ],
   "execution_count": 4,
   "outputs": [
    {
     "data": {
      "text/html": [
       "<div>\n",
       "<style scoped>\n",
       "    .dataframe tbody tr th:only-of-type {\n",
       "        vertical-align: middle;\n",
       "    }\n",
       "\n",
       "    .dataframe tbody tr th {\n",
       "        vertical-align: top;\n",
       "    }\n",
       "\n",
       "    .dataframe thead th {\n",
       "        text-align: right;\n",
       "    }\n",
       "</style>\n",
       "<table border=\"1\" class=\"dataframe\">\n",
       "  <thead>\n",
       "    <tr style=\"text-align: right;\">\n",
       "      <th></th>\n",
       "      <th>66</th>\n",
       "      <th>10</th>\n",
       "      <th>29</th>\n",
       "      <th>87</th>\n",
       "      <th>1</th>\n",
       "    </tr>\n",
       "  </thead>\n",
       "  <tbody>\n",
       "    <tr>\n",
       "      <th>0</th>\n",
       "      <td>79</td>\n",
       "      <td>38</td>\n",
       "      <td>51</td>\n",
       "      <td>52</td>\n",
       "      <td>0</td>\n",
       "    </tr>\n",
       "    <tr>\n",
       "      <th>1</th>\n",
       "      <td>77</td>\n",
       "      <td>11</td>\n",
       "      <td>58</td>\n",
       "      <td>66</td>\n",
       "      <td>0</td>\n",
       "    </tr>\n",
       "    <tr>\n",
       "      <th>2</th>\n",
       "      <td>71</td>\n",
       "      <td>99</td>\n",
       "      <td>21</td>\n",
       "      <td>66</td>\n",
       "      <td>1</td>\n",
       "    </tr>\n",
       "    <tr>\n",
       "      <th>3</th>\n",
       "      <td>0</td>\n",
       "      <td>15</td>\n",
       "      <td>56</td>\n",
       "      <td>83</td>\n",
       "      <td>1</td>\n",
       "    </tr>\n",
       "    <tr>\n",
       "      <th>4</th>\n",
       "      <td>48</td>\n",
       "      <td>38</td>\n",
       "      <td>23</td>\n",
       "      <td>85</td>\n",
       "      <td>0</td>\n",
       "    </tr>\n",
       "  </tbody>\n",
       "</table>\n",
       "</div>"
      ]
     },
     "metadata": {},
     "output_type": "display_data"
    }
   ],
   "metadata": {
    "datalore": {
     "node_id": "GAXO3ELFEWi6hxxwO5eQJG",
     "type": "CODE",
     "hide_input_from_viewers": false,
     "hide_output_from_viewers": false,
     "report_properties": {}
    }
   }
  },
  {
   "cell_type": "code",
   "source": [
    "df.columns = ['A', 'B', 'C', 'D', \"Target\"]"
   ],
   "execution_count": 5,
   "outputs": [],
   "metadata": {
    "datalore": {
     "node_id": "uzr7aHOphAoqegTTpKyBPW",
     "type": "CODE",
     "hide_input_from_viewers": false,
     "hide_output_from_viewers": false,
     "report_properties": {}
    }
   }
  },
  {
   "cell_type": "code",
   "source": [
    "df.head()"
   ],
   "execution_count": 6,
   "outputs": [
    {
     "data": {
      "text/html": [
       "<div>\n",
       "<style scoped>\n",
       "    .dataframe tbody tr th:only-of-type {\n",
       "        vertical-align: middle;\n",
       "    }\n",
       "\n",
       "    .dataframe tbody tr th {\n",
       "        vertical-align: top;\n",
       "    }\n",
       "\n",
       "    .dataframe thead th {\n",
       "        text-align: right;\n",
       "    }\n",
       "</style>\n",
       "<table border=\"1\" class=\"dataframe\">\n",
       "  <thead>\n",
       "    <tr style=\"text-align: right;\">\n",
       "      <th></th>\n",
       "      <th>A</th>\n",
       "      <th>B</th>\n",
       "      <th>C</th>\n",
       "      <th>D</th>\n",
       "      <th>Target</th>\n",
       "    </tr>\n",
       "  </thead>\n",
       "  <tbody>\n",
       "    <tr>\n",
       "      <th>0</th>\n",
       "      <td>79</td>\n",
       "      <td>38</td>\n",
       "      <td>51</td>\n",
       "      <td>52</td>\n",
       "      <td>0</td>\n",
       "    </tr>\n",
       "    <tr>\n",
       "      <th>1</th>\n",
       "      <td>77</td>\n",
       "      <td>11</td>\n",
       "      <td>58</td>\n",
       "      <td>66</td>\n",
       "      <td>0</td>\n",
       "    </tr>\n",
       "    <tr>\n",
       "      <th>2</th>\n",
       "      <td>71</td>\n",
       "      <td>99</td>\n",
       "      <td>21</td>\n",
       "      <td>66</td>\n",
       "      <td>1</td>\n",
       "    </tr>\n",
       "    <tr>\n",
       "      <th>3</th>\n",
       "      <td>0</td>\n",
       "      <td>15</td>\n",
       "      <td>56</td>\n",
       "      <td>83</td>\n",
       "      <td>1</td>\n",
       "    </tr>\n",
       "    <tr>\n",
       "      <th>4</th>\n",
       "      <td>48</td>\n",
       "      <td>38</td>\n",
       "      <td>23</td>\n",
       "      <td>85</td>\n",
       "      <td>0</td>\n",
       "    </tr>\n",
       "  </tbody>\n",
       "</table>\n",
       "</div>"
      ]
     },
     "metadata": {},
     "output_type": "display_data"
    }
   ],
   "metadata": {
    "datalore": {
     "node_id": "f4hkw6pyi9t4CrICXSHrmU",
     "type": "CODE",
     "hide_input_from_viewers": false,
     "hide_output_from_viewers": false,
     "report_properties": {}
    }
   }
  },
  {
   "cell_type": "code",
   "source": [
    "df.describe()"
   ],
   "execution_count": 7,
   "outputs": [
    {
     "data": {
      "text/html": [
       "<div>\n",
       "<style scoped>\n",
       "    .dataframe tbody tr th:only-of-type {\n",
       "        vertical-align: middle;\n",
       "    }\n",
       "\n",
       "    .dataframe tbody tr th {\n",
       "        vertical-align: top;\n",
       "    }\n",
       "\n",
       "    .dataframe thead th {\n",
       "        text-align: right;\n",
       "    }\n",
       "</style>\n",
       "<table border=\"1\" class=\"dataframe\">\n",
       "  <thead>\n",
       "    <tr style=\"text-align: right;\">\n",
       "      <th></th>\n",
       "      <th>A</th>\n",
       "      <th>B</th>\n",
       "      <th>C</th>\n",
       "      <th>D</th>\n",
       "      <th>Target</th>\n",
       "    </tr>\n",
       "  </thead>\n",
       "  <tbody>\n",
       "    <tr>\n",
       "      <th>count</th>\n",
       "      <td>274.000000</td>\n",
       "      <td>274.000000</td>\n",
       "      <td>274.000000</td>\n",
       "      <td>274.000000</td>\n",
       "      <td>274.000000</td>\n",
       "    </tr>\n",
       "    <tr>\n",
       "      <th>mean</th>\n",
       "      <td>49.642336</td>\n",
       "      <td>49.087591</td>\n",
       "      <td>52.375912</td>\n",
       "      <td>50.142336</td>\n",
       "      <td>0.540146</td>\n",
       "    </tr>\n",
       "    <tr>\n",
       "      <th>std</th>\n",
       "      <td>28.474714</td>\n",
       "      <td>29.159276</td>\n",
       "      <td>29.156034</td>\n",
       "      <td>29.346699</td>\n",
       "      <td>0.499298</td>\n",
       "    </tr>\n",
       "    <tr>\n",
       "      <th>min</th>\n",
       "      <td>0.000000</td>\n",
       "      <td>0.000000</td>\n",
       "      <td>0.000000</td>\n",
       "      <td>0.000000</td>\n",
       "      <td>0.000000</td>\n",
       "    </tr>\n",
       "    <tr>\n",
       "      <th>25%</th>\n",
       "      <td>26.000000</td>\n",
       "      <td>24.000000</td>\n",
       "      <td>26.250000</td>\n",
       "      <td>25.000000</td>\n",
       "      <td>0.000000</td>\n",
       "    </tr>\n",
       "    <tr>\n",
       "      <th>50%</th>\n",
       "      <td>51.500000</td>\n",
       "      <td>50.000000</td>\n",
       "      <td>54.500000</td>\n",
       "      <td>50.000000</td>\n",
       "      <td>1.000000</td>\n",
       "    </tr>\n",
       "    <tr>\n",
       "      <th>75%</th>\n",
       "      <td>73.750000</td>\n",
       "      <td>73.750000</td>\n",
       "      <td>78.000000</td>\n",
       "      <td>76.750000</td>\n",
       "      <td>1.000000</td>\n",
       "    </tr>\n",
       "    <tr>\n",
       "      <th>max</th>\n",
       "      <td>100.000000</td>\n",
       "      <td>100.000000</td>\n",
       "      <td>100.000000</td>\n",
       "      <td>100.000000</td>\n",
       "      <td>1.000000</td>\n",
       "    </tr>\n",
       "  </tbody>\n",
       "</table>\n",
       "</div>"
      ]
     },
     "metadata": {},
     "output_type": "display_data"
    }
   ],
   "metadata": {
    "datalore": {
     "node_id": "ikIcPveV1IaIpit0LHaGry",
     "type": "CODE",
     "hide_input_from_viewers": false,
     "hide_output_from_viewers": false,
     "report_properties": {}
    }
   }
  },
  {
   "cell_type": "code",
   "source": [
    "!pwd"
   ],
   "execution_count": 8,
   "outputs": [
    {
     "name": "stdout",
     "text": [
      "/data/notebook_files\r\n"
     ],
     "output_type": "stream"
    }
   ],
   "metadata": {
    "datalore": {
     "node_id": "apNrsIqsxyRbuYoesRXT0c",
     "type": "CODE",
     "hide_input_from_viewers": false,
     "hide_output_from_viewers": false,
     "report_properties": {}
    }
   }
  },
  {
   "cell_type": "code",
   "source": [
    "data_wt = df.drop(\"Target\",axis=1)"
   ],
   "execution_count": 9,
   "outputs": [],
   "metadata": {
    "datalore": {
     "node_id": "AvIaectR60IhemLieH8BT3",
     "type": "CODE",
     "hide_input_from_viewers": false,
     "hide_output_from_viewers": false,
     "report_properties": {}
    }
   }
  },
  {
   "cell_type": "code",
   "source": [
    "data_wt.head()"
   ],
   "execution_count": 10,
   "outputs": [
    {
     "data": {
      "text/html": [
       "<div>\n",
       "<style scoped>\n",
       "    .dataframe tbody tr th:only-of-type {\n",
       "        vertical-align: middle;\n",
       "    }\n",
       "\n",
       "    .dataframe tbody tr th {\n",
       "        vertical-align: top;\n",
       "    }\n",
       "\n",
       "    .dataframe thead th {\n",
       "        text-align: right;\n",
       "    }\n",
       "</style>\n",
       "<table border=\"1\" class=\"dataframe\">\n",
       "  <thead>\n",
       "    <tr style=\"text-align: right;\">\n",
       "      <th></th>\n",
       "      <th>A</th>\n",
       "      <th>B</th>\n",
       "      <th>C</th>\n",
       "      <th>D</th>\n",
       "    </tr>\n",
       "  </thead>\n",
       "  <tbody>\n",
       "    <tr>\n",
       "      <th>0</th>\n",
       "      <td>79</td>\n",
       "      <td>38</td>\n",
       "      <td>51</td>\n",
       "      <td>52</td>\n",
       "    </tr>\n",
       "    <tr>\n",
       "      <th>1</th>\n",
       "      <td>77</td>\n",
       "      <td>11</td>\n",
       "      <td>58</td>\n",
       "      <td>66</td>\n",
       "    </tr>\n",
       "    <tr>\n",
       "      <th>2</th>\n",
       "      <td>71</td>\n",
       "      <td>99</td>\n",
       "      <td>21</td>\n",
       "      <td>66</td>\n",
       "    </tr>\n",
       "    <tr>\n",
       "      <th>3</th>\n",
       "      <td>0</td>\n",
       "      <td>15</td>\n",
       "      <td>56</td>\n",
       "      <td>83</td>\n",
       "    </tr>\n",
       "    <tr>\n",
       "      <th>4</th>\n",
       "      <td>48</td>\n",
       "      <td>38</td>\n",
       "      <td>23</td>\n",
       "      <td>85</td>\n",
       "    </tr>\n",
       "  </tbody>\n",
       "</table>\n",
       "</div>"
      ]
     },
     "metadata": {},
     "output_type": "display_data"
    }
   ],
   "metadata": {
    "datalore": {
     "node_id": "3FyxNg6MuK2qOjBlADhD0G",
     "type": "CODE",
     "hide_input_from_viewers": false,
     "hide_output_from_viewers": false,
     "report_properties": {}
    }
   }
  },
  {
   "cell_type": "code",
   "source": [
    "minmaxsc = MinMaxScaler()"
   ],
   "execution_count": 11,
   "outputs": [],
   "metadata": {
    "datalore": {
     "node_id": "xghjBdWuqF5svNQRrL5ZYP",
     "type": "CODE",
     "hide_input_from_viewers": false,
     "hide_output_from_viewers": false,
     "report_properties": {}
    }
   }
  },
  {
   "cell_type": "code",
   "source": [
    "data_in = pd.DataFrame(minmaxsc.fit_transform(data_wt), \n",
    "                       columns=[\"A\",\"B\",\"C\",\"D\"])"
   ],
   "execution_count": 12,
   "outputs": [],
   "metadata": {
    "datalore": {
     "node_id": "YZxVQAy70wuzjPJnQrVhdm",
     "type": "CODE",
     "hide_input_from_viewers": false,
     "hide_output_from_viewers": false,
     "report_properties": {}
    }
   }
  },
  {
   "cell_type": "code",
   "source": [
    "data_in.head()"
   ],
   "execution_count": 13,
   "outputs": [
    {
     "data": {
      "text/html": [
       "<div>\n",
       "<style scoped>\n",
       "    .dataframe tbody tr th:only-of-type {\n",
       "        vertical-align: middle;\n",
       "    }\n",
       "\n",
       "    .dataframe tbody tr th {\n",
       "        vertical-align: top;\n",
       "    }\n",
       "\n",
       "    .dataframe thead th {\n",
       "        text-align: right;\n",
       "    }\n",
       "</style>\n",
       "<table border=\"1\" class=\"dataframe\">\n",
       "  <thead>\n",
       "    <tr style=\"text-align: right;\">\n",
       "      <th></th>\n",
       "      <th>A</th>\n",
       "      <th>B</th>\n",
       "      <th>C</th>\n",
       "      <th>D</th>\n",
       "    </tr>\n",
       "  </thead>\n",
       "  <tbody>\n",
       "    <tr>\n",
       "      <th>0</th>\n",
       "      <td>0.79</td>\n",
       "      <td>0.38</td>\n",
       "      <td>0.51</td>\n",
       "      <td>0.52</td>\n",
       "    </tr>\n",
       "    <tr>\n",
       "      <th>1</th>\n",
       "      <td>0.77</td>\n",
       "      <td>0.11</td>\n",
       "      <td>0.58</td>\n",
       "      <td>0.66</td>\n",
       "    </tr>\n",
       "    <tr>\n",
       "      <th>2</th>\n",
       "      <td>0.71</td>\n",
       "      <td>0.99</td>\n",
       "      <td>0.21</td>\n",
       "      <td>0.66</td>\n",
       "    </tr>\n",
       "    <tr>\n",
       "      <th>3</th>\n",
       "      <td>0.00</td>\n",
       "      <td>0.15</td>\n",
       "      <td>0.56</td>\n",
       "      <td>0.83</td>\n",
       "    </tr>\n",
       "    <tr>\n",
       "      <th>4</th>\n",
       "      <td>0.48</td>\n",
       "      <td>0.38</td>\n",
       "      <td>0.23</td>\n",
       "      <td>0.85</td>\n",
       "    </tr>\n",
       "  </tbody>\n",
       "</table>\n",
       "</div>"
      ]
     },
     "metadata": {},
     "output_type": "display_data"
    }
   ],
   "metadata": {
    "datalore": {
     "node_id": "g4jkZc9oNARvXNN6X8Qtey",
     "type": "CODE",
     "hide_input_from_viewers": false,
     "hide_output_from_viewers": false,
     "report_properties": {}
    }
   }
  },
  {
   "cell_type": "code",
   "source": [
    "data_in.describe()"
   ],
   "execution_count": 14,
   "outputs": [
    {
     "data": {
      "text/html": [
       "<div>\n",
       "<style scoped>\n",
       "    .dataframe tbody tr th:only-of-type {\n",
       "        vertical-align: middle;\n",
       "    }\n",
       "\n",
       "    .dataframe tbody tr th {\n",
       "        vertical-align: top;\n",
       "    }\n",
       "\n",
       "    .dataframe thead th {\n",
       "        text-align: right;\n",
       "    }\n",
       "</style>\n",
       "<table border=\"1\" class=\"dataframe\">\n",
       "  <thead>\n",
       "    <tr style=\"text-align: right;\">\n",
       "      <th></th>\n",
       "      <th>A</th>\n",
       "      <th>B</th>\n",
       "      <th>C</th>\n",
       "      <th>D</th>\n",
       "    </tr>\n",
       "  </thead>\n",
       "  <tbody>\n",
       "    <tr>\n",
       "      <th>count</th>\n",
       "      <td>274.000000</td>\n",
       "      <td>274.000000</td>\n",
       "      <td>274.000000</td>\n",
       "      <td>274.000000</td>\n",
       "    </tr>\n",
       "    <tr>\n",
       "      <th>mean</th>\n",
       "      <td>0.496423</td>\n",
       "      <td>0.490876</td>\n",
       "      <td>0.523759</td>\n",
       "      <td>0.501423</td>\n",
       "    </tr>\n",
       "    <tr>\n",
       "      <th>std</th>\n",
       "      <td>0.284747</td>\n",
       "      <td>0.291593</td>\n",
       "      <td>0.291560</td>\n",
       "      <td>0.293467</td>\n",
       "    </tr>\n",
       "    <tr>\n",
       "      <th>min</th>\n",
       "      <td>0.000000</td>\n",
       "      <td>0.000000</td>\n",
       "      <td>0.000000</td>\n",
       "      <td>0.000000</td>\n",
       "    </tr>\n",
       "    <tr>\n",
       "      <th>25%</th>\n",
       "      <td>0.260000</td>\n",
       "      <td>0.240000</td>\n",
       "      <td>0.262500</td>\n",
       "      <td>0.250000</td>\n",
       "    </tr>\n",
       "    <tr>\n",
       "      <th>50%</th>\n",
       "      <td>0.515000</td>\n",
       "      <td>0.500000</td>\n",
       "      <td>0.545000</td>\n",
       "      <td>0.500000</td>\n",
       "    </tr>\n",
       "    <tr>\n",
       "      <th>75%</th>\n",
       "      <td>0.737500</td>\n",
       "      <td>0.737500</td>\n",
       "      <td>0.780000</td>\n",
       "      <td>0.767500</td>\n",
       "    </tr>\n",
       "    <tr>\n",
       "      <th>max</th>\n",
       "      <td>1.000000</td>\n",
       "      <td>1.000000</td>\n",
       "      <td>1.000000</td>\n",
       "      <td>1.000000</td>\n",
       "    </tr>\n",
       "  </tbody>\n",
       "</table>\n",
       "</div>"
      ]
     },
     "metadata": {},
     "output_type": "display_data"
    }
   ],
   "metadata": {
    "datalore": {
     "node_id": "wDHUbgqH3PzYqt3Y7HG2Rc",
     "type": "CODE",
     "hide_input_from_viewers": false,
     "hide_output_from_viewers": false,
     "report_properties": {}
    }
   }
  },
  {
   "cell_type": "code",
   "source": [
    "data_new=pd.concat([data_in, df[\"Target\"]],axis=1)"
   ],
   "execution_count": 15,
   "outputs": [],
   "metadata": {
    "datalore": {
     "node_id": "u1Z4MFEfVmysNDza0BtyOE",
     "type": "CODE",
     "hide_input_from_viewers": false,
     "hide_output_from_viewers": false,
     "report_properties": {}
    }
   }
  },
  {
   "cell_type": "code",
   "source": [
    "data_new.head()"
   ],
   "execution_count": 16,
   "outputs": [
    {
     "data": {
      "text/html": [
       "<div>\n",
       "<style scoped>\n",
       "    .dataframe tbody tr th:only-of-type {\n",
       "        vertical-align: middle;\n",
       "    }\n",
       "\n",
       "    .dataframe tbody tr th {\n",
       "        vertical-align: top;\n",
       "    }\n",
       "\n",
       "    .dataframe thead th {\n",
       "        text-align: right;\n",
       "    }\n",
       "</style>\n",
       "<table border=\"1\" class=\"dataframe\">\n",
       "  <thead>\n",
       "    <tr style=\"text-align: right;\">\n",
       "      <th></th>\n",
       "      <th>A</th>\n",
       "      <th>B</th>\n",
       "      <th>C</th>\n",
       "      <th>D</th>\n",
       "      <th>Target</th>\n",
       "    </tr>\n",
       "  </thead>\n",
       "  <tbody>\n",
       "    <tr>\n",
       "      <th>0</th>\n",
       "      <td>0.79</td>\n",
       "      <td>0.38</td>\n",
       "      <td>0.51</td>\n",
       "      <td>0.52</td>\n",
       "      <td>0</td>\n",
       "    </tr>\n",
       "    <tr>\n",
       "      <th>1</th>\n",
       "      <td>0.77</td>\n",
       "      <td>0.11</td>\n",
       "      <td>0.58</td>\n",
       "      <td>0.66</td>\n",
       "      <td>0</td>\n",
       "    </tr>\n",
       "    <tr>\n",
       "      <th>2</th>\n",
       "      <td>0.71</td>\n",
       "      <td>0.99</td>\n",
       "      <td>0.21</td>\n",
       "      <td>0.66</td>\n",
       "      <td>1</td>\n",
       "    </tr>\n",
       "    <tr>\n",
       "      <th>3</th>\n",
       "      <td>0.00</td>\n",
       "      <td>0.15</td>\n",
       "      <td>0.56</td>\n",
       "      <td>0.83</td>\n",
       "      <td>1</td>\n",
       "    </tr>\n",
       "    <tr>\n",
       "      <th>4</th>\n",
       "      <td>0.48</td>\n",
       "      <td>0.38</td>\n",
       "      <td>0.23</td>\n",
       "      <td>0.85</td>\n",
       "      <td>0</td>\n",
       "    </tr>\n",
       "  </tbody>\n",
       "</table>\n",
       "</div>"
      ]
     },
     "metadata": {},
     "output_type": "display_data"
    }
   ],
   "metadata": {
    "datalore": {
     "node_id": "OsqXafOIL4nhMrLnSRUIlq",
     "type": "CODE",
     "hide_input_from_viewers": false,
     "hide_output_from_viewers": false,
     "report_properties": {}
    }
   }
  },
  {
   "cell_type": "code",
   "source": [
    "X=data_new.drop(\"Target\",axis=1)\n",
    "y=data_new[[\"Target\"]]"
   ],
   "execution_count": 17,
   "outputs": [],
   "metadata": {
    "datalore": {
     "node_id": "TnwsrLSdzzr9K1efJ2Vt2o",
     "type": "CODE",
     "hide_input_from_viewers": false,
     "hide_output_from_viewers": false,
     "report_properties": {}
    }
   }
  },
  {
   "cell_type": "code",
   "source": [
    "X_train, X_Test, y_train, y_test=train_test_split(X,y, test_size=0.33)"
   ],
   "execution_count": 18,
   "outputs": [],
   "metadata": {
    "datalore": {
     "node_id": "zwZAILbjJvHFelE5ZQAWV3",
     "type": "CODE",
     "hide_input_from_viewers": false,
     "hide_output_from_viewers": false,
     "report_properties": {}
    }
   }
  },
  {
   "cell_type": "code",
   "source": [
    "len(y_train), len(y_test)"
   ],
   "execution_count": 19,
   "outputs": [
    {
     "data": {
      "text/plain": [
       "(183, 91)"
      ]
     },
     "metadata": {},
     "output_type": "display_data"
    }
   ],
   "metadata": {
    "datalore": {
     "node_id": "41BMtzp8vrTp5cfgAyHMYE",
     "type": "CODE",
     "hide_input_from_viewers": false,
     "hide_output_from_viewers": false,
     "report_properties": {}
    }
   }
  },
  {
   "cell_type": "code",
   "source": [
    "model=RandomForestClassifier()"
   ],
   "execution_count": 20,
   "outputs": [],
   "metadata": {
    "datalore": {
     "node_id": "Zwj3jNCkz3dO8rv7uPj2Mg",
     "type": "CODE",
     "hide_input_from_viewers": false,
     "hide_output_from_viewers": false,
     "report_properties": {}
    }
   }
  },
  {
   "cell_type": "code",
   "source": [
    "model.fit(X_train, y_train)"
   ],
   "execution_count": 21,
   "outputs": [
    {
     "name": "stderr",
     "text": [
      "<ipython-input-21-d768f88d541e>:1: DataConversionWarning: A column-vector y was passed when a 1d array was expected. Please change the shape of y to (n_samples,), for example using ravel().\n",
      "  model.fit(X_train, y_train)\n"
     ],
     "output_type": "stream"
    },
    {
     "data": {
      "text/plain": [
       "RandomForestClassifier()"
      ]
     },
     "metadata": {},
     "output_type": "display_data"
    }
   ],
   "metadata": {
    "datalore": {
     "node_id": "86szk9fEOx4yUTZcbxALce",
     "type": "CODE",
     "hide_input_from_viewers": false,
     "hide_output_from_viewers": false,
     "report_properties": {}
    }
   }
  },
  {
   "cell_type": "code",
   "source": [
    "y_pred=model.predict(X_Test)"
   ],
   "execution_count": 22,
   "outputs": [],
   "metadata": {
    "datalore": {
     "node_id": "N2QuZ7yRJedtzHULypTGl1",
     "type": "CODE",
     "hide_input_from_viewers": false,
     "hide_output_from_viewers": false,
     "report_properties": {}
    }
   }
  },
  {
   "cell_type": "code",
   "source": [
    "print(y_pred)"
   ],
   "execution_count": 23,
   "outputs": [
    {
     "name": "stdout",
     "text": [
      "[1 0 0 0 1 0 0 1 0 1 0 1 1 0 0 0 1 0 0 1 0 1 0 0 1 0 0 0 1 1 0 0 0 0 0 0 1\n",
      " 0 0 0 1 1 0 1 0 0 1 1 0 1 0 0 1 1 1 1 0 0 1 1 1 0 0 0 1 0 0 1 1 0 0 1 1 1\n",
      " 0 1 0 1 0 1 0 1 1 1 0 0 0 0 1 0 0]\n"
     ],
     "output_type": "stream"
    }
   ],
   "metadata": {
    "datalore": {
     "node_id": "Dib35eEfyN7lhOkOuTacq5",
     "type": "CODE",
     "hide_input_from_viewers": false,
     "hide_output_from_viewers": false,
     "report_properties": {}
    }
   }
  },
  {
   "cell_type": "code",
   "source": [
    "len(y_pred), len(y_test)"
   ],
   "execution_count": 24,
   "outputs": [
    {
     "data": {
      "text/plain": [
       "(91, 91)"
      ]
     },
     "metadata": {},
     "output_type": "display_data"
    }
   ],
   "metadata": {
    "datalore": {
     "node_id": "FgmUosnGOOL78FhPlOBDA5",
     "type": "CODE",
     "hide_input_from_viewers": false,
     "hide_output_from_viewers": false,
     "report_properties": {}
    }
   }
  },
  {
   "cell_type": "markdown",
   "source": [
    "### Task  \n",
    "#### Please compare the resulting data contained in y_test and y_pred. \n",
    "To do this, please calculate how many times the predictions are correct\n",
    "(that is, how many times y_pred[i] is equal to y_test[i], i = 0, 1, 2,.., len(y_test), and how many times it is not equal). Please provide your answer\n",
    "in percent, and give a few words of comment. Please use your own notebooks."
   ],
   "attachments": {},
   "metadata": {
    "datalore": {
     "node_id": "3l7ydzXeDeb1l5nbN10wHN",
     "type": "MD",
     "hide_input_from_viewers": false,
     "hide_output_from_viewers": false,
     "report_properties": {}
    }
   }
  },
  {
   "cell_type": "code",
   "source": [
    "type(y_test)"
   ],
   "execution_count": 25,
   "outputs": [
    {
     "data": {
      "text/plain": [
       "pandas.core.frame.DataFrame"
      ]
     },
     "metadata": {},
     "output_type": "display_data"
    }
   ],
   "metadata": {
    "datalore": {
     "node_id": "qnrOxYsNoyLaASxiHLp2x5",
     "type": "CODE",
     "hide_input_from_viewers": false,
     "hide_output_from_viewers": false,
     "report_properties": {}
    }
   }
  },
  {
   "cell_type": "markdown",
   "source": [
    "### y_test has a pandas dataframe type. So we need to convert it to the numpy_array"
   ],
   "attachments": {},
   "metadata": {
    "datalore": {
     "node_id": "pp6XurQvab6abouak7nh1C",
     "type": "MD",
     "hide_input_from_viewers": false,
     "hide_output_from_viewers": false,
     "report_properties": {}
    }
   }
  },
  {
   "cell_type": "code",
   "source": [
    "numpy_y_test = y_test.to_numpy()\n",
    "print(type(numpy_y_test), len(numpy_y_test))"
   ],
   "execution_count": 26,
   "outputs": [
    {
     "name": "stdout",
     "text": [
      "<class 'numpy.ndarray'> 91\n"
     ],
     "output_type": "stream"
    }
   ],
   "metadata": {
    "datalore": {
     "node_id": "mh5e2F3iHDH2NU5SCQoLFU",
     "type": "CODE",
     "hide_input_from_viewers": false,
     "hide_output_from_viewers": false,
     "report_properties": {}
    }
   }
  },
  {
   "cell_type": "markdown",
   "source": [
    "### Checkin is there is some different in the arrays"
   ],
   "attachments": {},
   "metadata": {
    "datalore": {
     "node_id": "0ktZ5Oq7ADJsmCKq2RqXMa",
     "type": "MD",
     "hide_input_from_viewers": false,
     "hide_output_from_viewers": false,
     "report_properties": {}
    }
   }
  },
  {
   "cell_type": "code",
   "source": [
    "for i in range(len(y_pred)):\n",
    "    print(y_pred[i], end = ' - ')\n",
    "    print(int(numpy_y_test[i]))"
   ],
   "execution_count": 27,
   "outputs": [
    {
     "name": "stdout",
     "text": [
      "1 - 0\n",
      "0 - 1\n",
      "0 - 1\n",
      "0 - 1\n",
      "1 - 1\n",
      "0 - 0\n",
      "0 - 1\n",
      "1 - 1\n",
      "0 - 0\n",
      "1 - 1\n",
      "0 - 1\n",
      "1 - 1\n",
      "1 - 0\n",
      "0 - 0\n",
      "0 - 0\n",
      "0 - 1\n",
      "1 - 1\n",
      "0 - 1\n",
      "0 - 0\n",
      "1 - 0\n",
      "0 - 1\n",
      "1 - 0\n",
      "0 - 1\n",
      "0 - 1\n",
      "1 - 1\n",
      "0 - 1\n",
      "0 - 0\n",
      "0 - 0\n",
      "1 - 1\n",
      "1 - 0\n",
      "0 - 1\n",
      "0 - 1\n",
      "0 - 0\n",
      "0 - 0\n",
      "0 - 0\n",
      "0 - 1\n",
      "1 - 1\n",
      "0 - 1\n",
      "0 - 0\n",
      "0 - 1\n",
      "1 - 1\n",
      "1 - 1\n",
      "0 - 0\n",
      "1 - 1\n",
      "0 - 1\n",
      "0 - 1\n",
      "1 - 0\n",
      "1 - 0\n",
      "0 - 1\n",
      "1 - 1\n",
      "0 - 0\n",
      "0 - 0\n",
      "1 - 1\n",
      "1 - 1\n",
      "1 - 1\n",
      "1 - 1\n",
      "0 - 1\n",
      "0 - 1\n",
      "1 - 1\n",
      "1 - 1\n",
      "1 - 1\n",
      "0 - 0\n",
      "0 - 1\n",
      "0 - 1\n",
      "1 - 0\n",
      "0 - 0\n",
      "0 - 1\n",
      "1 - 0\n",
      "1 - 1\n",
      "0 - 1\n",
      "0 - 0\n",
      "1 - 1\n",
      "1 - 1\n",
      "1 - 1\n",
      "0 - 1\n",
      "1 - 0\n",
      "0 - 1\n",
      "1 - 0\n",
      "0 - 1\n",
      "1 - 1\n",
      "0 - 1\n",
      "1 - 1\n",
      "1 - 1\n",
      "1 - 0\n",
      "0 - 1\n",
      "0 - 0\n",
      "0 - 1\n",
      "0 - 0\n",
      "1 - 1\n",
      "0 - 1\n",
      "0 - 0\n"
     ],
     "output_type": "stream"
    }
   ],
   "metadata": {
    "datalore": {
     "node_id": "Vz1jg8xvqkCozUgx1RIcvE",
     "type": "CODE",
     "hide_input_from_viewers": false,
     "hide_output_from_viewers": false,
     "report_properties": {}
    }
   }
  },
  {
   "cell_type": "markdown",
   "source": [
    "### We are definitely seeing them, so let's check the number of wrong predictions"
   ],
   "attachments": {},
   "metadata": {
    "datalore": {
     "node_id": "O8yi9ku8rt8JlKyn8tmHEU",
     "type": "MD",
     "hide_input_from_viewers": false,
     "hide_output_from_viewers": false,
     "report_properties": {}
    }
   }
  },
  {
   "cell_type": "code",
   "source": [
    "error_numbers = 0\n",
    "for i in range(len(y_pred)):\n",
    "    error_numbers += abs(float(y_pred[i] - numpy_y_test[i]))\n",
    "\n",
    "accuracy = 1 - error_numbers / len(y_pred)\n",
    "print(f\"The accuracy of our model is {accuracy * 100} per cent\")"
   ],
   "execution_count": 28,
   "outputs": [
    {
     "name": "stdout",
     "text": [
      "The accuracy of our model is 51.64835164835164 per cent\n"
     ],
     "output_type": "stream"
    }
   ],
   "metadata": {
    "datalore": {
     "node_id": "FrCtbq293ryYZcmlZhwRYe",
     "type": "CODE",
     "hide_input_from_viewers": false,
     "hide_output_from_viewers": false,
     "report_properties": {}
    }
   }
  },
  {
   "cell_type": "code",
   "source": [],
   "execution_count": null,
   "outputs": [],
   "metadata": {
    "datalore": {
     "node_id": "kbMCwcbjdRIgYBBH0Qf2IJ",
     "type": "CODE",
     "hide_input_from_viewers": false,
     "hide_output_from_viewers": false,
     "report_properties": {}
    }
   }
  }
 ],
 "metadata": {
  "kernelspec": {
   "display_name": "Python",
   "language": "python",
   "name": "python"
  },
  "datalore": {
   "version": 1,
   "computation_mode": "JUPYTER",
   "package_manager": "pip",
   "base_environment": "default",
   "packages": []
  }
 },
 "nbformat": 4,
 "nbformat_minor": 4
}
