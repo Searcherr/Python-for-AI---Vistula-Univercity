{
 "cells":[
  {
   "cell_type":"markdown",
   "source":[
    "# Pandas 24 useful exercises with solutions\n",
    "### https:\/\/www.kaggle.com\/code\/icarofreire\/pandas-24-useful-exercises-with-solutions"
   ],
   "attachments":{
    
   },
   "metadata":{
    "datalore":{
     "node_id":"CY4XzyhW3iD2GjyVaE9JuM",
     "type":"MD",
     "hide_input_from_viewers":false,
     "hide_output_from_viewers":false
    }
   }
  },
  {
   "cell_type":"markdown",
   "source":[
    "## 1. How to create a series from a list, numpy array and dict?"
   ],
   "attachments":{
    
   },
   "metadata":{
    "datalore":{
     "node_id":"o29auusvkko5xYCjjTVoAh",
     "type":"MD",
     "hide_input_from_viewers":false,
     "hide_output_from_viewers":false
    }
   }
  },
  {
   "cell_type":"code",
   "source":[
    "import numpy as np\n",
    "import pandas as pd\n",
    "\n",
    "test_list = [10, 11, 12, 13, 14, 15, 16, 17]\n",
    "print(test_list)\n",
    "\n",
    "test_array = np.array([1, 5, 7, 8])\n",
    "print(test_array)\n",
    "\n",
    "test_dict = {\"a\":  0, \n",
    "             \"b\":1, \n",
    "             \"c\":2, \n",
    "             \"d\":3, \n",
    "             \"e\":5}\n",
    "print(test_dict)"
   ],
   "execution_count":2,
   "outputs":[
    {
     "name":"stdout",
     "text":[
      "[10, 11, 12, 13, 14, 15, 16, 17]\n",
      "[1 5 7 8]\n",
      "{'a': 0, 'b': 1, 'c': 2, 'd': 3, 'e': 5}\n"
     ],
     "output_type":"stream"
    }
   ],
   "metadata":{
    "datalore":{
     "node_id":"qJOd3cGSftFdZB9Jcb5orA",
     "type":"CODE",
     "hide_input_from_viewers":false,
     "hide_output_from_viewers":false
    }
   }
  },
  {
   "cell_type":"code",
   "source":[
    "series_1 = pd.Series(test_list)\n",
    "series_2 = pd.Series(test_array)\n",
    "series_3 = pd.Series(test_dict)\n",
    "\n",
    "print(series_1)\n",
    "print(series_2)\n",
    "print(series_3)"
   ],
   "execution_count":3,
   "outputs":[
    {
     "name":"stdout",
     "text":[
      "0    10\n",
      "1    11\n",
      "2    12\n",
      "3    13\n",
      "4    14\n",
      "5    15\n",
      "6    16\n",
      "7    17\n",
      "dtype: int64\n",
      "0    1\n",
      "1    5\n",
      "2    7\n",
      "3    8\n",
      "dtype: int64\n",
      "a    0\n",
      "b    1\n",
      "c    2\n",
      "d    3\n",
      "e    5\n",
      "dtype: int64\n"
     ],
     "output_type":"stream"
    }
   ],
   "metadata":{
    "datalore":{
     "node_id":"foZzyYsjyeTq1WqBEnFysC",
     "type":"CODE",
     "hide_input_from_viewers":false,
     "hide_output_from_viewers":false
    }
   }
  },
  {
   "cell_type":"markdown",
   "source":[
    "## 5. How to get useful infos."
   ],
   "attachments":{
    
   },
   "metadata":{
    "datalore":{
     "node_id":"JByRrPJBntUsybJnjskbmY",
     "type":"MD",
     "hide_input_from_viewers":false,
     "hide_output_from_viewers":false
    }
   }
  },
  {
   "cell_type":"code",
   "source":[
    "series_1.describe()"
   ],
   "execution_count":4,
   "outputs":[
    {
     "data":{
      "text\/html":[
       "<pre>count     8.00000\n",
       "mean     13.50000\n",
       "std       2.44949\n",
       "min      10.00000\n",
       "25%      11.75000\n",
       "50%      13.50000\n",
       "75%      15.25000\n",
       "max      17.00000\n",
       "dtype: float64<\/pre>"
      ]
     },
     "metadata":{
      
     },
     "output_type":"display_data"
    }
   ],
   "metadata":{
    "datalore":{
     "node_id":"frg4p4YVt6GU9WacrK0Glv",
     "type":"CODE",
     "hide_input_from_viewers":false,
     "hide_output_from_viewers":false
    }
   }
  },
  {
   "cell_type":"code",
   "source":[
    "series_1.describe()"
   ],
   "execution_count":5,
   "outputs":[
    {
     "data":{
      "text\/html":[
       "<pre>count     8.00000\n",
       "mean     13.50000\n",
       "std       2.44949\n",
       "min      10.00000\n",
       "25%      11.75000\n",
       "50%      13.50000\n",
       "75%      15.25000\n",
       "max      17.00000\n",
       "dtype: float64<\/pre>"
      ]
     },
     "metadata":{
      
     },
     "output_type":"display_data"
    }
   ],
   "metadata":{
    "datalore":{
     "node_id":"wI2Fbs9chlJyvI9Ks9kbJn",
     "type":"CODE",
     "hide_input_from_viewers":false,
     "hide_output_from_viewers":false
    }
   }
  },
  {
   "cell_type":"code",
   "source":[
    "series_3.describe()"
   ],
   "execution_count":6,
   "outputs":[
    {
     "data":{
      "text\/html":[
       "<pre>count    5.000000\n",
       "mean     2.200000\n",
       "std      1.923538\n",
       "min      0.000000\n",
       "25%      1.000000\n",
       "50%      2.000000\n",
       "75%      3.000000\n",
       "max      5.000000\n",
       "dtype: float64<\/pre>"
      ]
     },
     "metadata":{
      
     },
     "output_type":"display_data"
    }
   ],
   "metadata":{
    "datalore":{
     "node_id":"P6MrI86QcHfy2rfJUjWOxB",
     "type":"CODE",
     "hide_input_from_viewers":false,
     "hide_output_from_viewers":false
    }
   }
  },
  {
   "cell_type":"markdown",
   "source":[
    "## 9. How to extract items at given positions from a series"
   ],
   "attachments":{
    
   },
   "metadata":{
    "datalore":{
     "node_id":"dxZZaTIIF6m9pTHGSnsN8M",
     "type":"MD",
     "hide_input_from_viewers":false,
     "hide_output_from_viewers":false
    }
   }
  },
  {
   "cell_type":"code",
   "source":[
    "print(series_1)\n",
    "series_index= [0, 2, 4]\n",
    "series_1.loc[series_index]"
   ],
   "execution_count":7,
   "outputs":[
    {
     "name":"stdout",
     "text":[
      "0    10\n",
      "1    11\n",
      "2    12\n",
      "3    13\n",
      "4    14\n",
      "5    15\n",
      "6    16\n",
      "7    17\n",
      "dtype: int64\n"
     ],
     "output_type":"stream"
    },
    {
     "data":{
      "text\/html":[
       "<pre>0    10\n",
       "2    12\n",
       "4    14\n",
       "dtype: int64<\/pre>"
      ]
     },
     "metadata":{
      
     },
     "output_type":"display_data"
    }
   ],
   "metadata":{
    "datalore":{
     "node_id":"M0lgD2TgKTFeBL5SDzJ9dA",
     "type":"CODE",
     "hide_input_from_viewers":false,
     "hide_output_from_viewers":false
    }
   }
  },
  {
   "cell_type":"code",
   "source":[
    "series_1.take(series_index)"
   ],
   "execution_count":8,
   "outputs":[
    {
     "data":{
      "text\/html":[
       "<pre>0    10\n",
       "2    12\n",
       "4    14\n",
       "dtype: int64<\/pre>"
      ]
     },
     "metadata":{
      
     },
     "output_type":"display_data"
    }
   ],
   "metadata":{
    "datalore":{
     "node_id":"eH1YNVM1Akhf4VdfuaauD6",
     "type":"CODE",
     "hide_input_from_viewers":false,
     "hide_output_from_viewers":false
    }
   }
  },
  {
   "cell_type":"code",
   "source":[
    "# 8. How to find the positions of numbers that are multiples of 3 from a series?\n",
    "\n",
    "print(series_1)\n",
    "div_3_series = series_1.where(lambda x: x % 3 == 0).dropna()\n",
    "print(div_3_series)"
   ],
   "execution_count":9,
   "outputs":[
    {
     "name":"stdout",
     "text":[
      "0    10\n",
      "1    11\n",
      "2    12\n",
      "3    13\n",
      "4    14\n",
      "5    15\n",
      "6    16\n",
      "7    17\n",
      "dtype: int64\n",
      "2    12.0\n",
      "5    15.0\n",
      "dtype: float64\n"
     ],
     "output_type":"stream"
    }
   ],
   "metadata":{
    "datalore":{
     "node_id":"jyUkxyZiJw7l6TBWW9Yo98",
     "type":"CODE",
     "hide_input_from_viewers":false,
     "hide_output_from_viewers":false
    }
   }
  },
  {
   "cell_type":"markdown",
   "source":[
    "## 13. How to convert a series of date-strings to a timeseries?"
   ],
   "attachments":{
    
   },
   "metadata":{
    "datalore":{
     "node_id":"47bw7cmLznh2F5p8AS3aev",
     "type":"MD",
     "hide_input_from_viewers":false,
     "hide_output_from_viewers":false
    }
   }
  },
  {
   "cell_type":"code",
   "source":[
    "date_series = pd.Series(['13 Feb 2010', '02-09-2011', '20200706', '2021\/04\/01', '1988-10-11', '2000-02-01T03:10'])\n",
    "print(date_series)"
   ],
   "execution_count":10,
   "outputs":[
    {
     "name":"stdout",
     "text":[
      "0         13 Feb 2010\n",
      "1          02-09-2011\n",
      "2            20200706\n",
      "3          2021\/04\/01\n",
      "4          1988-10-11\n",
      "5    2000-02-01T03:10\n",
      "dtype: object\n"
     ],
     "output_type":"stream"
    }
   ],
   "metadata":{
    "datalore":{
     "node_id":"g4QQof00CCmUByQMmrKa3t",
     "type":"CODE",
     "hide_input_from_viewers":false,
     "hide_output_from_viewers":false
    }
   }
  },
  {
   "cell_type":"code",
   "source":[
    "date_df = pd.to_datetime(date_series)\n",
    "date_df"
   ],
   "execution_count":11,
   "outputs":[
    {
     "data":{
      "text\/html":[
       "<pre>0   2010-02-13 00:00:00\n",
       "1   2011-02-09 00:00:00\n",
       "2   2020-07-06 00:00:00\n",
       "3   2021-04-01 00:00:00\n",
       "4   1988-10-11 00:00:00\n",
       "5   2000-02-01 03:10:00\n",
       "dtype: datetime64[ns]<\/pre>"
      ]
     },
     "metadata":{
      
     },
     "output_type":"display_data"
    }
   ],
   "metadata":{
    "datalore":{
     "node_id":"bfrpYT8efEGHt5gxyYyrbj",
     "type":"CODE",
     "hide_input_from_viewers":false,
     "hide_output_from_viewers":false
    }
   }
  },
  {
   "cell_type":"markdown",
   "source":[
    "## 17. How to import only specified columns from a csv file?"
   ],
   "attachments":{
    
   },
   "metadata":{
    "datalore":{
     "node_id":"KsrfEn9PJmYXyr098Jj6cF",
     "type":"MD",
     "hide_input_from_viewers":false,
     "hide_output_from_viewers":false
    }
   }
  },
  {
   "cell_type":"code",
   "source":[
    "df = pd.read_csv('Data3.csv')\n",
    "df.columns = ['A', 'B', 'C', 'D', \"Target\"]\n",
    "df.head(10)\n",
    "df.to_csv('Data3_withColumnNames.csv')"
   ],
   "execution_count":15,
   "outputs":[
    
   ],
   "metadata":{
    "datalore":{
     "node_id":"WyuTxt5VVBvWV2kQnVd8he",
     "type":"CODE",
     "hide_input_from_viewers":false,
     "hide_output_from_viewers":false
    }
   }
  },
  {
   "cell_type":"code",
   "source":[
    "requirement_columns = ['A', 'B', 'Target']\n",
    "work_df = pd.read_csv('Data3_withColumnNames.csv', usecols = requirement_columns)\n",
    "work_df.head()"
   ],
   "execution_count":16,
   "outputs":[
    {
     "data":{
      "text\/html":[
       "<div>\n",
       "<style scoped>\n",
       "    .dataframe tbody tr th:only-of-type {\n",
       "        vertical-align: middle;\n",
       "    }\n",
       "\n",
       "    .dataframe tbody tr th {\n",
       "        vertical-align: top;\n",
       "    }\n",
       "\n",
       "    .dataframe thead th {\n",
       "        text-align: right;\n",
       "    }\n",
       "<\/style>\n",
       "<table border=\"1\" class=\"dataframe\">\n",
       "  <thead>\n",
       "    <tr style=\"text-align: right;\">\n",
       "      <th><\/th>\n",
       "      <th>A<\/th>\n",
       "      <th>B<\/th>\n",
       "      <th>Target<\/th>\n",
       "    <\/tr>\n",
       "  <\/thead>\n",
       "  <tbody>\n",
       "    <tr>\n",
       "      <th>0<\/th>\n",
       "      <td>79<\/td>\n",
       "      <td>38<\/td>\n",
       "      <td>0<\/td>\n",
       "    <\/tr>\n",
       "    <tr>\n",
       "      <th>1<\/th>\n",
       "      <td>77<\/td>\n",
       "      <td>11<\/td>\n",
       "      <td>0<\/td>\n",
       "    <\/tr>\n",
       "    <tr>\n",
       "      <th>2<\/th>\n",
       "      <td>71<\/td>\n",
       "      <td>99<\/td>\n",
       "      <td>1<\/td>\n",
       "    <\/tr>\n",
       "    <tr>\n",
       "      <th>3<\/th>\n",
       "      <td>0<\/td>\n",
       "      <td>15<\/td>\n",
       "      <td>1<\/td>\n",
       "    <\/tr>\n",
       "    <tr>\n",
       "      <th>4<\/th>\n",
       "      <td>48<\/td>\n",
       "      <td>38<\/td>\n",
       "      <td>0<\/td>\n",
       "    <\/tr>\n",
       "  <\/tbody>\n",
       "<\/table>\n",
       "<\/div>"
      ]
     },
     "metadata":{
      
     },
     "output_type":"display_data"
    }
   ],
   "metadata":{
    "datalore":{
     "node_id":"g82G1J0nnun48vkIRIYGO0",
     "type":"CODE",
     "hide_input_from_viewers":false,
     "hide_output_from_viewers":false
    }
   }
  },
  {
   "cell_type":"markdown",
   "source":[
    "## 21. How to filter every Nth row in a dataframe\n",
    "### From df, filter the 'Manufacturer', 'Model' and 'Type' for every 20th row starting from 1st (row 0)."
   ],
   "attachments":{
    
   },
   "metadata":{
    "datalore":{
     "node_id":"0e0mzl5c5GhNubwtoIQ4Y2",
     "type":"MD",
     "hide_input_from_viewers":false,
     "hide_output_from_viewers":false
    }
   }
  },
  {
   "cell_type":"code",
   "source":[
    "car_df = pd.read_csv('Cars93.csv')\n",
    "car_df.head()"
   ],
   "execution_count":18,
   "outputs":[
    {
     "data":{
      "text\/html":[
       "<div>\n",
       "<style scoped>\n",
       "    .dataframe tbody tr th:only-of-type {\n",
       "        vertical-align: middle;\n",
       "    }\n",
       "\n",
       "    .dataframe tbody tr th {\n",
       "        vertical-align: top;\n",
       "    }\n",
       "\n",
       "    .dataframe thead th {\n",
       "        text-align: right;\n",
       "    }\n",
       "<\/style>\n",
       "<table border=\"1\" class=\"dataframe\">\n",
       "  <thead>\n",
       "    <tr style=\"text-align: right;\">\n",
       "      <th><\/th>\n",
       "      <th>Unnamed: 0<\/th>\n",
       "      <th>Manufacturer<\/th>\n",
       "      <th>Model<\/th>\n",
       "      <th>Type<\/th>\n",
       "      <th>Min.Price<\/th>\n",
       "      <th>Price<\/th>\n",
       "      <th>Max.Price<\/th>\n",
       "      <th>MPG.city<\/th>\n",
       "      <th>MPG.highway<\/th>\n",
       "      <th>AirBags<\/th>\n",
       "      <th>...<\/th>\n",
       "      <th>Passengers<\/th>\n",
       "      <th>Length<\/th>\n",
       "      <th>Wheelbase<\/th>\n",
       "      <th>Width<\/th>\n",
       "      <th>Turn.circle<\/th>\n",
       "      <th>Rear.seat.room<\/th>\n",
       "      <th>Luggage.room<\/th>\n",
       "      <th>Weight<\/th>\n",
       "      <th>Origin<\/th>\n",
       "      <th>Make<\/th>\n",
       "    <\/tr>\n",
       "  <\/thead>\n",
       "  <tbody>\n",
       "    <tr>\n",
       "      <th>0<\/th>\n",
       "      <td>1<\/td>\n",
       "      <td>Acura<\/td>\n",
       "      <td>Integra<\/td>\n",
       "      <td>Small<\/td>\n",
       "      <td>12.9<\/td>\n",
       "      <td>15.9<\/td>\n",
       "      <td>18.8<\/td>\n",
       "      <td>25<\/td>\n",
       "      <td>31<\/td>\n",
       "      <td>None<\/td>\n",
       "      <td>...<\/td>\n",
       "      <td>5<\/td>\n",
       "      <td>177<\/td>\n",
       "      <td>102<\/td>\n",
       "      <td>68<\/td>\n",
       "      <td>37<\/td>\n",
       "      <td>26.5<\/td>\n",
       "      <td>11.0<\/td>\n",
       "      <td>2705<\/td>\n",
       "      <td>non-USA<\/td>\n",
       "      <td>Acura Integra<\/td>\n",
       "    <\/tr>\n",
       "    <tr>\n",
       "      <th>1<\/th>\n",
       "      <td>2<\/td>\n",
       "      <td>Acura<\/td>\n",
       "      <td>Legend<\/td>\n",
       "      <td>Midsize<\/td>\n",
       "      <td>29.2<\/td>\n",
       "      <td>33.9<\/td>\n",
       "      <td>38.7<\/td>\n",
       "      <td>18<\/td>\n",
       "      <td>25<\/td>\n",
       "      <td>Driver &amp; Passenger<\/td>\n",
       "      <td>...<\/td>\n",
       "      <td>5<\/td>\n",
       "      <td>195<\/td>\n",
       "      <td>115<\/td>\n",
       "      <td>71<\/td>\n",
       "      <td>38<\/td>\n",
       "      <td>30.0<\/td>\n",
       "      <td>15.0<\/td>\n",
       "      <td>3560<\/td>\n",
       "      <td>non-USA<\/td>\n",
       "      <td>Acura Legend<\/td>\n",
       "    <\/tr>\n",
       "    <tr>\n",
       "      <th>2<\/th>\n",
       "      <td>3<\/td>\n",
       "      <td>Audi<\/td>\n",
       "      <td>90<\/td>\n",
       "      <td>Compact<\/td>\n",
       "      <td>25.9<\/td>\n",
       "      <td>29.1<\/td>\n",
       "      <td>32.3<\/td>\n",
       "      <td>20<\/td>\n",
       "      <td>26<\/td>\n",
       "      <td>Driver only<\/td>\n",
       "      <td>...<\/td>\n",
       "      <td>5<\/td>\n",
       "      <td>180<\/td>\n",
       "      <td>102<\/td>\n",
       "      <td>67<\/td>\n",
       "      <td>37<\/td>\n",
       "      <td>28.0<\/td>\n",
       "      <td>14.0<\/td>\n",
       "      <td>3375<\/td>\n",
       "      <td>non-USA<\/td>\n",
       "      <td>Audi 90<\/td>\n",
       "    <\/tr>\n",
       "    <tr>\n",
       "      <th>3<\/th>\n",
       "      <td>4<\/td>\n",
       "      <td>Audi<\/td>\n",
       "      <td>100<\/td>\n",
       "      <td>Midsize<\/td>\n",
       "      <td>30.8<\/td>\n",
       "      <td>37.7<\/td>\n",
       "      <td>44.6<\/td>\n",
       "      <td>19<\/td>\n",
       "      <td>26<\/td>\n",
       "      <td>Driver &amp; Passenger<\/td>\n",
       "      <td>...<\/td>\n",
       "      <td>6<\/td>\n",
       "      <td>193<\/td>\n",
       "      <td>106<\/td>\n",
       "      <td>70<\/td>\n",
       "      <td>37<\/td>\n",
       "      <td>31.0<\/td>\n",
       "      <td>17.0<\/td>\n",
       "      <td>3405<\/td>\n",
       "      <td>non-USA<\/td>\n",
       "      <td>Audi 100<\/td>\n",
       "    <\/tr>\n",
       "    <tr>\n",
       "      <th>4<\/th>\n",
       "      <td>5<\/td>\n",
       "      <td>BMW<\/td>\n",
       "      <td>535i<\/td>\n",
       "      <td>Midsize<\/td>\n",
       "      <td>23.7<\/td>\n",
       "      <td>30.0<\/td>\n",
       "      <td>36.2<\/td>\n",
       "      <td>22<\/td>\n",
       "      <td>30<\/td>\n",
       "      <td>Driver only<\/td>\n",
       "      <td>...<\/td>\n",
       "      <td>4<\/td>\n",
       "      <td>186<\/td>\n",
       "      <td>109<\/td>\n",
       "      <td>69<\/td>\n",
       "      <td>39<\/td>\n",
       "      <td>27.0<\/td>\n",
       "      <td>13.0<\/td>\n",
       "      <td>3640<\/td>\n",
       "      <td>non-USA<\/td>\n",
       "      <td>BMW 535i<\/td>\n",
       "    <\/tr>\n",
       "  <\/tbody>\n",
       "<\/table>\n",
       "<p>5 rows × 28 columns<\/p>\n",
       "<\/div>"
      ]
     },
     "metadata":{
      
     },
     "output_type":"display_data"
    }
   ],
   "metadata":{
    "datalore":{
     "node_id":"chkGrYSfyS2BR5OkGsvI3S",
     "type":"CODE",
     "hide_input_from_viewers":false,
     "hide_output_from_viewers":false
    }
   }
  },
  {
   "cell_type":"code",
   "source":[
    "car_df.iloc[::20, :][['Manufacturer', 'Model', 'Type']]"
   ],
   "execution_count":20,
   "outputs":[
    {
     "data":{
      "text\/html":[
       "<div>\n",
       "<style scoped>\n",
       "    .dataframe tbody tr th:only-of-type {\n",
       "        vertical-align: middle;\n",
       "    }\n",
       "\n",
       "    .dataframe tbody tr th {\n",
       "        vertical-align: top;\n",
       "    }\n",
       "\n",
       "    .dataframe thead th {\n",
       "        text-align: right;\n",
       "    }\n",
       "<\/style>\n",
       "<table border=\"1\" class=\"dataframe\">\n",
       "  <thead>\n",
       "    <tr style=\"text-align: right;\">\n",
       "      <th><\/th>\n",
       "      <th>Manufacturer<\/th>\n",
       "      <th>Model<\/th>\n",
       "      <th>Type<\/th>\n",
       "    <\/tr>\n",
       "  <\/thead>\n",
       "  <tbody>\n",
       "    <tr>\n",
       "      <th>0<\/th>\n",
       "      <td>Acura<\/td>\n",
       "      <td>Integra<\/td>\n",
       "      <td>Small<\/td>\n",
       "    <\/tr>\n",
       "    <tr>\n",
       "      <th>20<\/th>\n",
       "      <td>Chrysler<\/td>\n",
       "      <td>LeBaron<\/td>\n",
       "      <td>Compact<\/td>\n",
       "    <\/tr>\n",
       "    <tr>\n",
       "      <th>40<\/th>\n",
       "      <td>Honda<\/td>\n",
       "      <td>Prelude<\/td>\n",
       "      <td>Sporty<\/td>\n",
       "    <\/tr>\n",
       "    <tr>\n",
       "      <th>60<\/th>\n",
       "      <td>Mercury<\/td>\n",
       "      <td>Cougar<\/td>\n",
       "      <td>Midsize<\/td>\n",
       "    <\/tr>\n",
       "    <tr>\n",
       "      <th>80<\/th>\n",
       "      <td>Subaru<\/td>\n",
       "      <td>Loyale<\/td>\n",
       "      <td>Small<\/td>\n",
       "    <\/tr>\n",
       "  <\/tbody>\n",
       "<\/table>\n",
       "<\/div>"
      ]
     },
     "metadata":{
      
     },
     "output_type":"display_data"
    }
   ],
   "metadata":{
    "datalore":{
     "node_id":"yo86XQuoBXYYpctBfYekll",
     "type":"CODE",
     "hide_input_from_viewers":false,
     "hide_output_from_viewers":false
    }
   }
  },
  {
   "cell_type":"code",
   "source":[
    
   ],
   "execution_count":null,
   "outputs":[
    
   ],
   "metadata":{
    "datalore":{
     "node_id":"SICavoWfwOTkoRS7qJn7sn",
     "type":"CODE",
     "hide_input_from_viewers":false,
     "hide_output_from_viewers":false
    }
   }
  }
 ],
 "metadata":{
  "kernelspec":{
   "display_name":"Python",
   "language":"python",
   "name":"python"
  },
  "datalore":{
   "version":1,
   "computation_mode":"JUPYTER",
   "package_manager":"pip",
   "base_environment":"default",
   "packages":[
    
   ]
  }
 },
 "nbformat":4,
 "nbformat_minor":4
}