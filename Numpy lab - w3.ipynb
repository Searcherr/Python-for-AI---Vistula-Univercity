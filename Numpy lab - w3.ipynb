{
 "cells":[
  {
   "cell_type":"markdown",
   "source":[
    "## Numpy lab - w3\n",
    "### Link: https:\/\/www.w3resource.com\/python-exercises\/numpy\/basic\/index.php"
   ],
   "attachments":{
    
   },
   "metadata":{
    "datalore":{
     "node_id":"lqbeGYV3qsdYlfMY7nIh4c",
     "type":"MD",
     "hide_input_from_viewers":false,
     "hide_output_from_viewers":false
    }
   }
  },
  {
   "cell_type":"markdown",
   "source":[
    "### Ex. 5. Write a NumPy program to test a given array element-wise for finiteness (not infinity or not a Number)"
   ],
   "attachments":{
    
   },
   "metadata":{
    "datalore":{
     "node_id":"pTQ3dEUvEMKPogbg4YTtxk",
     "type":"MD",
     "hide_input_from_viewers":false,
     "hide_output_from_viewers":false
    }
   }
  },
  {
   "cell_type":"code",
   "source":[
    "import numpy as np\n",
    "\n",
    "a = np.array([1, 3, np.nan, np.inf])\n",
    "np.isfinite(a)"
   ],
   "execution_count":3,
   "outputs":[
    {
     "data":{
      "text\/html":[
       "<pre>array([ True,  True, False, False])<\/pre>"
      ]
     },
     "metadata":{
      
     },
     "output_type":"display_data"
    }
   ],
   "metadata":{
    "datalore":{
     "node_id":"yyP5lBlplPj4J3LbmD8pNs",
     "type":"CODE",
     "hide_input_from_viewers":false,
     "hide_output_from_viewers":false
    }
   }
  },
  {
   "cell_type":"markdown",
   "source":[
    "### Ex. 11.Write a NumPy program to create an element-wise comparison (equal, equal within a tolerance) of two given arrays."
   ],
   "attachments":{
    
   },
   "metadata":{
    "datalore":{
     "node_id":"dRWGKcGyZBS9jnMLNUdHvA",
     "type":"MD",
     "hide_input_from_viewers":false,
     "hide_output_from_viewers":false
    }
   }
  },
  {
   "cell_type":"code",
   "source":[
    "a_array = np.random.rand(1, 5)\n",
    "b_array = np.random.rand(1, 5)\n",
    "print(a_array)\n",
    "print(b_array)\n",
    "\n",
    "print(np.equal(a_array, b_array))\n",
    "\n",
    "a_array = np.array([1, 2, 3, 4, 5])\n",
    "b_array = np.array([1., 2., 3., 4., 5.0001])\n",
    "\n",
    "print(np.equal(a_array, b_array))\n",
    "print(np.allclose(a_array, b_array))"
   ],
   "execution_count":4,
   "outputs":[
    {
     "name":"stdout",
     "text":[
      "[[0.88500578 0.66581243 0.63045277 0.54359249 0.83209624]]\n",
      "[[0.3919436  0.99322047 0.54415996 0.29706467 0.88430643]]\n",
      "[[False False False False False]]\n",
      "[ True  True  True  True False]\n",
      "False\n"
     ],
     "output_type":"stream"
    }
   ],
   "metadata":{
    "datalore":{
     "node_id":"rSQNCgNdsGVmkNgVPq6jVT",
     "type":"CODE",
     "hide_input_from_viewers":false,
     "hide_output_from_viewers":false
    }
   }
  },
  {
   "cell_type":"markdown",
   "source":[
    "### Ex. 17 Write a NumPy program to generate a random number between 0 and 1."
   ],
   "attachments":{
    
   },
   "metadata":{
    "datalore":{
     "node_id":"sP3QwalSW1YetGVeSqysBH",
     "type":"MD",
     "hide_input_from_viewers":false,
     "hide_output_from_viewers":false
    }
   }
  },
  {
   "cell_type":"code",
   "source":[
    "zero_to_one_array = np.random.rand(7)\n",
    "zero_to_one_array"
   ],
   "execution_count":5,
   "outputs":[
    {
     "data":{
      "text\/html":[
       "<pre>array([0.10701413, 0.9358542 , 0.28330123, 0.76675963, 0.88198998,\n",
       "       0.32512635, 0.73751078])<\/pre>"
      ]
     },
     "metadata":{
      
     },
     "output_type":"display_data"
    }
   ],
   "metadata":{
    "datalore":{
     "node_id":"qHzu8NbI1bQdtGW3qIEPIp",
     "type":"CODE",
     "hide_input_from_viewers":false,
     "hide_output_from_viewers":false
    }
   }
  },
  {
   "cell_type":"code",
   "source":[
    "zero_to_ten_array = np.random.randint(0, 11, 5)\n",
    "zero_to_ten_array"
   ],
   "execution_count":6,
   "outputs":[
    {
     "data":{
      "text\/html":[
       "<pre>array([ 3, 10,  3,  9,  5])<\/pre>"
      ]
     },
     "metadata":{
      
     },
     "output_type":"display_data"
    }
   ],
   "metadata":{
    "datalore":{
     "node_id":"OaQpDYdeRmeli8mTxW2XvM",
     "type":"CODE",
     "hide_input_from_viewers":false,
     "hide_output_from_viewers":false
    }
   }
  },
  {
   "cell_type":"markdown",
   "source":[
    "### Ex. 23. Write a NumPy program to create a vector of length 5 filled with arbitrary integers from 0 to 10."
   ],
   "attachments":{
    
   },
   "metadata":{
    "datalore":{
     "node_id":"EFNJIHfxNHlYOVuMuNssqs",
     "type":"MD",
     "hide_input_from_viewers":false,
     "hide_output_from_viewers":false
    }
   }
  },
  {
   "cell_type":"code",
   "source":[
    "zero_to_ten_int_array = np.random.randint(1, 11, 5)\n",
    "print(zero_to_ten_int_array)"
   ],
   "execution_count":7,
   "outputs":[
    {
     "name":"stdout",
     "text":[
      "[5 5 6 5 5]\n"
     ],
     "output_type":"stream"
    }
   ],
   "metadata":{
    "datalore":{
     "node_id":"NTPelN2xcSNlcyr5UCBKSx",
     "type":"CODE",
     "hide_input_from_viewers":false,
     "hide_output_from_viewers":false
    }
   }
  },
  {
   "cell_type":"markdown",
   "source":[
    "### Ex. 29. Write a NumPy program to create a 5x5 zero matrix with elements on the main diagonal equal to 1, 2, 3, 4, 5."
   ],
   "attachments":{
    
   },
   "metadata":{
    "datalore":{
     "node_id":"gU7k66IIICbRar5pzInfDP",
     "type":"MD",
     "hide_input_from_viewers":false,
     "hide_output_from_viewers":false
    }
   }
  },
  {
   "cell_type":"code",
   "source":[
    "zeros_md_numbers = np.diag(range(1,6))\n",
    "zeros_md_numbers"
   ],
   "execution_count":8,
   "outputs":[
    {
     "data":{
      "text\/html":[
       "<pre>array([[1, 0, 0, 0, 0],\n",
       "       [0, 2, 0, 0, 0],\n",
       "       [0, 0, 3, 0, 0],\n",
       "       [0, 0, 0, 4, 0],\n",
       "       [0, 0, 0, 0, 5]])<\/pre>"
      ]
     },
     "metadata":{
      
     },
     "output_type":"display_data"
    }
   ],
   "metadata":{
    "datalore":{
     "node_id":"7YN0alUDyW9b3i5JTxDmyB",
     "type":"CODE",
     "hide_input_from_viewers":false,
     "hide_output_from_viewers":false
    }
   }
  },
  {
   "cell_type":"markdown",
   "source":[
    "### Ex. 35. Write a NumPy program to save a given array to a binary file "
   ],
   "attachments":{
    
   },
   "metadata":{
    "datalore":{
     "node_id":"NBN5mFTuyNMUOSo2S7aKbM",
     "type":"MD",
     "hide_input_from_viewers":false,
     "hide_output_from_viewers":false
    }
   }
  },
  {
   "cell_type":"code",
   "source":[
    "random_array = np.random.randint(1, 11, (5,5))\n",
    "print('Random array\\n', random_array)"
   ],
   "execution_count":14,
   "outputs":[
    {
     "name":"stdout",
     "text":[
      "Random array\n",
      " [[ 1  8 10  4  3]\n",
      " [ 4 10  3  7  5]\n",
      " [ 8  8  9  8 10]\n",
      " [ 1  1  8  8  5]\n",
      " [ 2  8  6 10  6]]\n"
     ],
     "output_type":"stream"
    }
   ],
   "metadata":{
    "datalore":{
     "node_id":"JQ3ESyt1352QgaNpsxqnHP",
     "type":"CODE",
     "hide_input_from_viewers":false,
     "hide_output_from_viewers":false
    }
   }
  },
  {
   "cell_type":"code",
   "source":[
    "from tempfile import TemporaryFile\n",
    "tempFile = TemporaryFile()\n",
    "np.save(tempFile, random_array)"
   ],
   "execution_count":15,
   "outputs":[
    
   ],
   "metadata":{
    "datalore":{
     "node_id":"UmmBXFdZHm72d8Ktn8UmpP",
     "type":"CODE",
     "hide_input_from_viewers":false,
     "hide_output_from_viewers":false
    }
   }
  },
  {
   "cell_type":"code",
   "source":[
    "_ = tempFile.seek(0)\n",
    "np.load(tempFile)"
   ],
   "execution_count":18,
   "outputs":[
    {
     "data":{
      "text\/html":[
       "<pre>array([[ 1,  8, 10,  4,  3],\n",
       "       [ 4, 10,  3,  7,  5],\n",
       "       [ 8,  8,  9,  8, 10],\n",
       "       [ 1,  1,  8,  8,  5],\n",
       "       [ 2,  8,  6, 10,  6]])<\/pre>"
      ]
     },
     "metadata":{
      
     },
     "output_type":"display_data"
    }
   ],
   "metadata":{
    "datalore":{
     "node_id":"yf9putqDDm95pjrBq4etcG",
     "type":"CODE",
     "hide_input_from_viewers":false,
     "hide_output_from_viewers":false
    }
   }
  }
 ],
 "metadata":{
  "kernelspec":{
   "display_name":"Python",
   "language":"python",
   "name":"python"
  },
  "datalore":{
   "version":1,
   "computation_mode":"JUPYTER",
   "package_manager":"pip",
   "base_environment":"default",
   "packages":[
    
   ]
  }
 },
 "nbformat":4,
 "nbformat_minor":4
}